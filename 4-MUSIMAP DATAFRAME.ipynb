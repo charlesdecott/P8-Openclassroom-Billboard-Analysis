{
 "cells": [
  {
   "cell_type": "code",
   "execution_count": null,
   "metadata": {},
   "outputs": [],
   "source": [
    "url = \"https://api.prd.musimap.io/oauth/access_tokens\"\n",
    "client_id='098e17f0-0450-4a65-9fcd-4bde878b17e1'\n",
    "client_secret='SnEcbN4p73GZz6BAsC3UeAz7olVfMM1aG_KuP3PFJQch7-1s8zAe8LcpmUg4gI2mrIrEAw8xEqavV5agdbupqe82vQKtrLXKN9jH1Y2G_mBIYGDwK1TWnY80aTRUbbJcXkgttnNE22hTYoAp0ubuA5dH3cxbHSazESSCJkZsEpE'\n",
    "\n",
    "payload = 'grant_type=client_secret&client_id='+client_id+'&client_secret='+client_secret\n",
    "headers = {\n",
    "  'Content-Type': 'application/x-www-form-urlencoded'\n",
    "}\n",
    "\n",
    "response = requests.request(\"POST\", url, headers=headers, data = payload)\n",
    "\n",
    "TOKEN_MUSIMAP=response.json()['token']\n"
   ]
  },
  {
   "cell_type": "code",
   "execution_count": null,
   "metadata": {},
   "outputs": [],
   "source": [
    "url = \"https://api.prd.musimap.io/musimotion/live?weblink=\"\n",
    "youtubeLink='https://p.scdn.co/mp3-preview/9a7b78842606df0c12021cba73e6883f6757387b?cid=ed490024ea5f4072810146d4d3dff356'\n",
    "\n",
    "payload = {}\n",
    "headers = {\n",
    "  'Authorization': 'Bearer '+TOKEN_MUSIMAP}\n",
    "\n",
    "response = requests.request(\"GET\", url+youtubeLink, headers=headers, data = payload)"
   ]
  },
  {
   "cell_type": "code",
   "execution_count": null,
   "metadata": {},
   "outputs": [],
   "source": [
    "xxxx=response.json()['data']\n",
    "\n",
    "info_seed=xxxx['seed']\n",
    "info_lexico=xxxx['lexicology']\n",
    "\n",
    "for i in info_lexico:\n",
    "    print(i)\n",
    "    for j in info_lexico[i]:\n",
    "        print(j)"
   ]
  },
  {
   "cell_type": "code",
   "execution_count": null,
   "metadata": {},
   "outputs": [],
   "source": []
  },
  {
   "cell_type": "code",
   "execution_count": null,
   "metadata": {},
   "outputs": [],
   "source": []
  }
 ],
 "metadata": {
  "kernelspec": {
   "display_name": "Python 3",
   "language": "python",
   "name": "python3"
  },
  "language_info": {
   "codemirror_mode": {
    "name": "ipython",
    "version": 3
   },
   "file_extension": ".py",
   "mimetype": "text/x-python",
   "name": "python",
   "nbconvert_exporter": "python",
   "pygments_lexer": "ipython3",
   "version": "3.6.7"
  }
 },
 "nbformat": 4,
 "nbformat_minor": 2
}
