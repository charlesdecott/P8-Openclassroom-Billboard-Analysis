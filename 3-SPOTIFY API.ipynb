{
 "cells": [
  {
   "cell_type": "code",
   "execution_count": null,
   "metadata": {},
   "outputs": [],
   "source": [
    "import pandas as pd\n",
    "import numpy as np\n",
    "from datetime import datetime\n",
    "import matplotlib.pyplot as plt\n",
    "\n",
    "import spotipy\n",
    "from spotipy.oauth2 import SpotifyClientCredentials\n",
    "import spotipy.util as util\n",
    "import spotipy.client as client\n",
    "\n",
    "import json\n",
    "import time\n",
    "\n",
    "import requests"
   ]
  },
  {
   "cell_type": "code",
   "execution_count": null,
   "metadata": {},
   "outputs": [],
   "source": []
  },
  {
   "cell_type": "code",
   "execution_count": null,
   "metadata": {},
   "outputs": [],
   "source": [
    "songs_df=pd.read_csv('my_data/songs_billboard.csv')\n",
    "artists_df=pd.read_csv('my_data/artistes_billboard.csv')\n",
    "billboard = pd.read_csv('my_data/my_billboard.csv')\n",
    "spotify_df = pd.read_csv('my_data/my_spotify.csv')"
   ]
  },
  {
   "cell_type": "code",
   "execution_count": null,
   "metadata": {},
   "outputs": [],
   "source": []
  },
  {
   "cell_type": "code",
   "execution_count": null,
   "metadata": {},
   "outputs": [],
   "source": [
    "cid = 'ed490024ea5f4072810146d4d3dff356'\n",
    "secret = 'b74fa8fd014f4932bb15e79572a104fe'\n",
    "\n",
    "client_credentials_manager = SpotifyClientCredentials(client_id=cid, client_secret=secret)\n",
    "\n",
    "sp = client.Spotify(client_credentials_manager=client_credentials_manager)\n",
    "sp.trace = False"
   ]
  },
  {
   "cell_type": "code",
   "execution_count": null,
   "metadata": {},
   "outputs": [],
   "source": []
  },
  {
   "cell_type": "code",
   "execution_count": null,
   "metadata": {},
   "outputs": [],
   "source": [
    "def getAudioFeatureSpotify(sp,tids):\n",
    "    return sp.audio_features(tids)[0]\n",
    "\n",
    "def keepGoodFeatures(features):\n",
    "    newFeatures={\n",
    "        'danceability': features['danceability'],\n",
    "        'energy': features['energy'],\n",
    "        'key': features['key'],\n",
    "        'loudness': features['loudness'],\n",
    "        'mode': features['mode'],\n",
    "        'speechiness': features['speechiness'],\n",
    "        'acousticness': features['acousticness'],\n",
    "        'instrumentalness': features['instrumentalness'],\n",
    "        'liveness': features['liveness'],\n",
    "        'valence': features['valence'],\n",
    "        'tempo': features['tempo'],\n",
    "        'duration_ms': features['duration_ms'],\n",
    "                }\n",
    "    return newFeatures\n",
    "\n",
    "def searchSpotify(titre):\n",
    "    result = sp.search(titre,limit=1,type='track')['tracks']['items']\n",
    "    if len(result) <=0:\n",
    "        return result\n",
    "    else :\n",
    "        return result[0]"
   ]
  },
  {
   "cell_type": "code",
   "execution_count": null,
   "metadata": {},
   "outputs": [],
   "source": []
  },
  {
   "cell_type": "code",
   "execution_count": null,
   "metadata": {},
   "outputs": [],
   "source": [
    "for i in searched_spotify:\n",
    "    for j in i:\n",
    "        print(j)\n",
    "\n",
    "print(xx['album']['release_date'])\n",
    "print(xx['id'])\n",
    "print(xx['preview_url'])"
   ]
  },
  {
   "cell_type": "code",
   "execution_count": null,
   "metadata": {},
   "outputs": [],
   "source": []
  },
  {
   "cell_type": "code",
   "execution_count": null,
   "metadata": {},
   "outputs": [],
   "source": [
    "xj['& in name']=xj['Performer'].apply(lambda x: '&' in x)\n",
    "xj['is Costarring']=xj['Performer'].apply(lambda x: 'Co-Starring' in x)\n",
    "\n",
    "xj['is With']=xj['Performer'].apply(lambda x: 'With' in x)\n",
    "\n",
    "xj['is /']=xj['SongID'].apply(lambda x: '/' in x)\n",
    "\n",
    "xj['is (']=xj['SongID'].apply(lambda x: '(' in x)"
   ]
  },
  {
   "cell_type": "code",
   "execution_count": null,
   "metadata": {},
   "outputs": [],
   "source": []
  },
  {
   "cell_type": "code",
   "execution_count": null,
   "metadata": {},
   "outputs": [],
   "source": [
    "def exploreDict(dic,level=-1):\n",
    "    \n",
    "    if type(dic) == type({}): \n",
    "        for i in dic.keys():\n",
    "            level+=1\n",
    "            \n",
    "            print(level,'-'*level,i)\n",
    "            \n",
    "            if type(dic[i]) == type({}) or type(dic[i]) == type([]) :\n",
    "\n",
    "                exploreDict(dic[i],level=level)\n",
    "            else :\n",
    "                level+=1\n",
    "                print(level,'-'*level,dic[i])\n",
    "                \n",
    "    elif type(dic) == type([]):\n",
    "        if len(dic) > 20 :\n",
    "            print(level,'-'*level,dic)\n",
    "        else :\n",
    "            for i in range(len(dic)):\n",
    "                if type(dic[i]) == type({}) or type(dic[i]) == type([]) :\n",
    "\n",
    "                    exploreDict(dic[i],level=level)\n",
    "                else :\n",
    "                    print(level,'-'*level,dic[i])"
   ]
  },
  {
   "cell_type": "code",
   "execution_count": null,
   "metadata": {},
   "outputs": [],
   "source": []
  },
  {
   "cell_type": "code",
   "execution_count": null,
   "metadata": {},
   "outputs": [],
   "source": [
    "mySpotify_df = pd.DataFrame(columns=['SongID','SpotifyID','preview_url','release_date'])\n",
    "songID_withName = pd.DataFrame(columns=['SongID','Performer','Song'])\n",
    "\n",
    "songID=set()\n",
    "for ii in billboard.iterrows():\n",
    "    i=ii[1]\n",
    "    if not i['SongID'] in songID:\n",
    "        \n",
    "        songID.add(i['SongID'])\n",
    "        songID_withName.loc[i['SongID']]=pd.Series({'SongID':i['SongID'],\n",
    "                                                 'Performer':i['Performer'],\n",
    "                                                    'Song' : i['Song']})\n",
    "        #q=searchSpotify(i['Song']+' '+i['Performer'])\n",
    "        \n",
    "        \"\"\"\n",
    "        if q != []:\n",
    "            mySpotify_df.loc[i['SongID']]=pd.Series({'SongID':i['SongID'],\n",
    "                                                 'SpotifyID':q['id'],\n",
    "                                                 'preview_url':q['preview_url'],\n",
    "                                                 'release_date':q['album']['release_date']})\n",
    "        else :\n",
    "            mySpotify_df.loc[i['SongID']]=pd.Series({'SongID':i['SongID'],\n",
    "                                                 'SpotifyID':0,\n",
    "                                                 'preview_url':0,\n",
    "                                                 'release_date':0})\"\"\"\n",
    "    #time.sleep(0.1)\n",
    "    if ii[0] %1000 ==0:\n",
    "        print(ii[0],i['SongID'])   \n",
    "print(len(songID))"
   ]
  },
  {
   "cell_type": "code",
   "execution_count": null,
   "metadata": {},
   "outputs": [],
   "source": []
  },
  {
   "cell_type": "code",
   "execution_count": null,
   "metadata": {},
   "outputs": [],
   "source": [
    "songs_features_name_df=pd.merge(songID_withName,spotifyFeatures,how='left')"
   ]
  },
  {
   "cell_type": "code",
   "execution_count": null,
   "metadata": {},
   "outputs": [],
   "source": [
    "songs_features_name_df.tail()"
   ]
  },
  {
   "cell_type": "code",
   "execution_count": null,
   "metadata": {},
   "outputs": [],
   "source": []
  },
  {
   "cell_type": "code",
   "execution_count": null,
   "metadata": {},
   "outputs": [],
   "source": [
    "mySpotify_df = pd.DataFrame(columns=['SongID','SpotifyID','preview_url','release_date'])\n",
    "\n",
    "indexNAN=0\n",
    "for ii in songs_features_name_df.iterrows():\n",
    "    index=ii[0]\n",
    "    i=ii[1]\n",
    "    if not i['spotify_track_id'] == i['spotify_track_id']: # RETURN FALSE IF ITS NaN value or None\n",
    "        indexNAN+=1\n",
    "        if indexNAN %100 ==0 :\n",
    "            print(indexNAN)\n",
    "        \n",
    "        q=searchSpotify(i['Song']+' '+i['Performer'])\n",
    "        \n",
    "        \n",
    "        if q != []:\n",
    "            mySpotify_df.loc[i['SongID']]=pd.Series({'SongID':i['SongID'],\n",
    "                                                 'SpotifyID':q['id'],\n",
    "                                                 'preview_url':q['preview_url'],\n",
    "                                                 'release_date':q['album']['release_date']})\n",
    "        else :\n",
    "            mySpotify_df.loc[i['SongID']]=pd.Series({'SongID':i['SongID'],\n",
    "                                                 'SpotifyID':0,\n",
    "                                                 'preview_url':0,\n",
    "                                                 'release_date':0})\n",
    "    time.sleep(0.1)\n",
    "    if ii[0] %1000 ==0:\n",
    "        print(ii[0],i['SongID'])   \n",
    "print(len(songID))"
   ]
  },
  {
   "cell_type": "code",
   "execution_count": null,
   "metadata": {},
   "outputs": [],
   "source": []
  },
  {
   "cell_type": "code",
   "execution_count": null,
   "metadata": {},
   "outputs": [],
   "source": [
    "xi=pd.merge(mySpotify_df,songID_withName,how='left')\n",
    "xj=pd.merge(xi,artists_df,how='left')"
   ]
  },
  {
   "cell_type": "code",
   "execution_count": null,
   "metadata": {},
   "outputs": [],
   "source": [
    "xj[xj['SpotifyID'] == 0]['is_featuring'].value_counts()\n",
    "xj[xj['SpotifyID'] == 0][xj['is ('] == True]['is /'].value_counts()\n",
    "\n",
    "len(xj['preview_url'].unique())\n",
    "xj[xj['SpotifyID'] == 0].index"
   ]
  },
  {
   "cell_type": "code",
   "execution_count": null,
   "metadata": {},
   "outputs": [],
   "source": []
  },
  {
   "cell_type": "code",
   "execution_count": null,
   "metadata": {},
   "outputs": [],
   "source": [
    "xj[xj['SpotifyID'] == 0][xj['year_min'] > 2000]['year_min'].sort_values().value_counts()"
   ]
  },
  {
   "cell_type": "code",
   "execution_count": null,
   "metadata": {},
   "outputs": [],
   "source": []
  }
 ],
 "metadata": {
  "kernelspec": {
   "display_name": "Python 3",
   "language": "python",
   "name": "python3"
  },
  "language_info": {
   "codemirror_mode": {
    "name": "ipython",
    "version": 3
   },
   "file_extension": ".py",
   "mimetype": "text/x-python",
   "name": "python",
   "nbconvert_exporter": "python",
   "pygments_lexer": "ipython3",
   "version": "3.6.7"
  }
 },
 "nbformat": 4,
 "nbformat_minor": 2
}
