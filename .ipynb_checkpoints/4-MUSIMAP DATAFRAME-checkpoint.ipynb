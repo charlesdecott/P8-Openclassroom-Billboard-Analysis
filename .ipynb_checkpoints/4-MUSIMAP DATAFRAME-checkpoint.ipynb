{
 "cells": [
  {
   "cell_type": "code",
   "execution_count": 1,
   "metadata": {},
   "outputs": [],
   "source": [
    "import pandas as pd\n",
    "import numpy as np\n",
    "from datetime import datetime\n",
    "import matplotlib.pyplot as plt\n",
    "\n",
    "import json\n",
    "import time\n",
    "\n",
    "import requests"
   ]
  },
  {
   "cell_type": "code",
   "execution_count": 2,
   "metadata": {},
   "outputs": [],
   "source": [
    "url = \"https://api.prd.musimap.io/oauth/access_tokens\"\n",
    "client_id='098e17f0-0450-4a65-9fcd-4bde878b17e1'\n",
    "client_secret='SnEcbN4p73GZz6BAsC3UeAz7olVfMM1aG_KuP3PFJQch7-1s8zAe8LcpmUg4gI2mrIrEAw8xEqavV5agdbupqe82vQKtrLXKN9jH1Y2G_mBIYGDwK1TWnY80aTRUbbJcXkgttnNE22hTYoAp0ubuA5dH3cxbHSazESSCJkZsEpE'\n",
    "\n",
    "payload = 'grant_type=client_secret&client_id='+client_id+'&client_secret='+client_secret\n",
    "headers = {\n",
    "  'Content-Type': 'application/x-www-form-urlencoded'\n",
    "}\n",
    "\n",
    "response = requests.request(\"POST\", url, headers=headers, data = payload)\n",
    "\n",
    "TOKEN_MUSIMAP=response.json()['token']"
   ]
  },
  {
   "cell_type": "code",
   "execution_count": 3,
   "metadata": {},
   "outputs": [],
   "source": [
    "url = \"https://api.prd.musimap.io/musimotion/live?weblink=\"\n",
    "youtubeLink='https://p.scdn.co/mp3-preview/9a7b78842606df0c12021cba73e6883f6757387b?cid=ed490024ea5f4072810146d4d3dff356'\n",
    "\n",
    "payload = {}\n",
    "headers = {\n",
    "  'Authorization': 'Bearer '+TOKEN_MUSIMAP}\n",
    "\n",
    "response = requests.request(\"GET\", url+youtubeLink, headers=headers, data = payload)"
   ]
  },
  {
   "cell_type": "code",
   "execution_count": 4,
   "metadata": {},
   "outputs": [
    {
     "name": "stdout",
     "output_type": "stream",
     "text": [
      "mood\n",
      "{'score': 79.84987497329712, 'item': {'id': '3bf7fd61-d4a7-4cbc-8286-3fe4d17a3adf', 'name': 'Happy'}}\n",
      "{'score': 71.33474707603455, 'item': {'id': 'a8e784e7-60cb-4a9a-bc67-ed2b99a8c8dc', 'name': 'Revitalizing'}}\n",
      "{'score': 69.88357212127299, 'item': {'id': 'f05f72ad-e056-cea2-3bd2-e109efa0c02b', 'name': 'Happiness'}}\n",
      "{'score': 68.83124262094498, 'item': {'id': '2cc908b7-d8dd-42b7-9f26-f102130b05c5', 'name': 'Lively'}}\n",
      "{'score': 59.87345007150593, 'item': {'id': '1e66c428-f242-7510-c474-303c768870f4', 'name': 'Dynamism'}}\n",
      "{'score': 58.698296546936035, 'item': {'id': 'f1aea1a6-ca6a-4b20-b0f6-5a8ea50f6cb6', 'name': 'Friendly'}}\n",
      "{'score': 56.74162209033966, 'item': {'id': '27241d72-b61c-4f22-b390-01ac87bc1489', 'name': 'Energetic'}}\n",
      "{'score': 55.24854063987732, 'item': {'id': 'bd3ac812-726f-473c-a29b-0c2234435d19', 'name': 'Glamourous'}}\n",
      "{'score': 52.86633012044548, 'item': {'id': 'a03a702b-0ec4-300a-d18c-1542c9023315', 'name': 'Good vibrations'}}\n",
      "{'score': 43.3598330616951, 'item': {'id': '2cc67cfa-8c2d-44f1-b045-7d62608cd88a', 'name': 'Warm-hearted'}}\n",
      "acoustic_attribute\n",
      "{'score': 106.0, 'item': {'id': '582ba553-1b91-4425-88e4-d58432c9fee5', 'name': 'Bpm'}}\n",
      "{'score': 54.2848921484375, 'item': {'id': '06132ef1-2688-4032-9232-01a699193748', 'name': 'Spectral Energy'}}\n",
      "{'score': 52.421063903095714, 'item': {'id': '93a6f555-450e-4d1f-b3b4-0631d71f7441', 'name': 'Rhythm Presence'}}\n",
      "{'score': 30.0, 'item': {'id': '63588566-5b72-4d99-a685-1aade8dfe964', 'name': 'Duration'}}\n",
      "{'score': 0.0, 'item': {'id': '82fe3702-fca7-4493-8499-1f574d446acc', 'name': 'Key'}, 'value_label': 'A'}\n",
      "{'score': 0.0, 'item': {'id': '2a246dc3-e21f-4806-a91e-e6d621436310', 'name': 'Key Scale'}, 'value_label': 'minor'}\n",
      "genre\n",
      "{'score': 60.611191391944885, 'item': {'id': '20152b88-901e-4c57-867f-1ebe2176be40', 'name': 'Pop'}}\n",
      "{'score': 35.779811441898346, 'item': {'id': '744fdb65-8810-4a48-a16f-4238d6d814c9', 'name': 'Soul'}}\n",
      "{'score': 33.37658494710922, 'item': {'id': 'bd3e8438-479f-45df-a420-882d8f7cda76', 'name': 'R&B - Nu Soul'}}\n",
      "{'score': 32.385289669036865, 'item': {'id': '29c0c11f-5d86-4022-998f-a8d89cc9c4aa', 'name': 'Dance Pop'}}\n",
      "{'score': 22.973327487707138, 'item': {'id': '1623f780-3056-482b-b6e2-79a632c39360', 'name': 'Electro Pop'}}\n",
      "{'score': 21.423939615488052, 'item': {'id': 'aa90e487-352c-4da4-b3fa-1350ac08db0a', 'name': 'Pop Rock'}}\n",
      "rhythmic_mood\n",
      "{'score': 89.55248594284058, 'item': {'id': 'eba5e088-c286-d5e7-80a5-a1eae337b4d9', 'name': 'Staccato'}}\n",
      "{'score': 10.803522914648056, 'item': {'id': '044705ca-844f-932a-d15f-4fb8742d9c6b', 'name': 'Chaotic'}}\n",
      "{'score': 0.0, 'item': {'id': '39a3ef53-07d7-b274-471b-57fd23478f06', 'name': 'Stillness'}}\n",
      "voices_family\n",
      "{'score': 88.64967823028564, 'item': {'id': '2f0c46c8-03c1-c9c0-cb49-fca8bdb0b84f', 'name': 'Female Vocal'}}\n",
      "{'score': 0.0, 'item': {'id': '0b897061-b94f-477f-9d72-06491f14a8de', 'name': 'Instrumental (no vocal)'}}\n",
      "{'score': 0.0, 'item': {'id': '2c967e7e-d9ee-817b-a332-ec8e5984ae50', 'name': 'Male Vocal'}}\n",
      "situation\n",
      "{'score': 99.0, 'item': {'id': '1775137b-6281-8d53-ecc1-70936238eca9', 'name': 'Good times'}}\n",
      "{'score': 93.34285714285713, 'item': {'id': '3cf78511-f764-2f9a-ecc4-b8714a710c1c', 'name': 'Summer'}}\n",
      "{'score': 91.38461538461539, 'item': {'id': '617e4017-7f57-f662-7f91-edb61d2d576e', 'name': 'Birthday'}}\n",
      "{'score': 89.1, 'item': {'id': 'b3677017-79f7-11cc-5558-37e999603848', 'name': 'Family'}}\n",
      "{'score': 89.1, 'item': {'id': '562a3fcf-5c39-757a-1428-c5390123883e', 'name': 'Party time'}}\n",
      "{'score': 84.85714285714285, 'item': {'id': '640ebea2-8e54-018a-2c3a-1d5a31f3bd7a', 'name': 'Running'}}\n",
      "{'score': 83.85882352941177, 'item': {'id': '1cb5db89-f75d-6a3a-bf55-3042d2d6d025', 'name': 'Friday evening'}}\n",
      "{'score': 79.19999999999999, 'item': {'id': 'd11173a9-2253-9396-7d32-cbbba9a1853b', 'name': 'Young days'}}\n",
      "{'score': 79.19999999999999, 'item': {'id': 'ecc592c2-808f-a3f7-5e1f-c9108584e61f', 'name': 'Adrenaline (Sports & Action)'}}\n",
      "{'score': 79.19999999999999, 'item': {'id': 'fdd1bde3-bb22-571a-d501-fe4e8d3a0daa', 'name': 'Bar'}}\n"
     ]
    }
   ],
   "source": [
    "xxxx=response.json()['data']\n",
    "\n",
    "info_seed=xxxx['seed']\n",
    "info_lexico=xxxx['lexicology']\n",
    "\n",
    "for i in info_lexico:\n",
    "    print(i)\n",
    "    for j in info_lexico[i]:\n",
    "        print(j)"
   ]
  },
  {
   "cell_type": "code",
   "execution_count": 5,
   "metadata": {},
   "outputs": [
    {
     "data": {
      "text/plain": [
       "[{'score': 79.84987497329712,\n",
       "  'item': {'id': '3bf7fd61-d4a7-4cbc-8286-3fe4d17a3adf', 'name': 'Happy'}},\n",
       " {'score': 71.33474707603455,\n",
       "  'item': {'id': 'a8e784e7-60cb-4a9a-bc67-ed2b99a8c8dc',\n",
       "   'name': 'Revitalizing'}},\n",
       " {'score': 69.88357212127299,\n",
       "  'item': {'id': 'f05f72ad-e056-cea2-3bd2-e109efa0c02b', 'name': 'Happiness'}}]"
      ]
     },
     "execution_count": 5,
     "metadata": {},
     "output_type": "execute_result"
    }
   ],
   "source": [
    "info_lexico['mood'][:3]"
   ]
  },
  {
   "cell_type": "code",
   "execution_count": 6,
   "metadata": {},
   "outputs": [
    {
     "data": {
      "text/plain": [
       "79.84987497329712"
      ]
     },
     "execution_count": 6,
     "metadata": {},
     "output_type": "execute_result"
    }
   ],
   "source": [
    "info_lexico['mood'][0]['score']"
   ]
  },
  {
   "cell_type": "code",
   "execution_count": 7,
   "metadata": {},
   "outputs": [
    {
     "data": {
      "text/plain": [
       "'Happy'"
      ]
     },
     "execution_count": 7,
     "metadata": {},
     "output_type": "execute_result"
    }
   ],
   "source": [
    "info_lexico['mood'][0]['item']['name']"
   ]
  },
  {
   "cell_type": "code",
   "execution_count": 8,
   "metadata": {},
   "outputs": [
    {
     "data": {
      "text/plain": [
       "[{'score': 60.611191391944885,\n",
       "  'item': {'id': '20152b88-901e-4c57-867f-1ebe2176be40', 'name': 'Pop'}},\n",
       " {'score': 35.779811441898346,\n",
       "  'item': {'id': '744fdb65-8810-4a48-a16f-4238d6d814c9', 'name': 'Soul'}},\n",
       " {'score': 33.37658494710922,\n",
       "  'item': {'id': 'bd3e8438-479f-45df-a420-882d8f7cda76',\n",
       "   'name': 'R&B - Nu Soul'}}]"
      ]
     },
     "execution_count": 8,
     "metadata": {},
     "output_type": "execute_result"
    }
   ],
   "source": [
    "info_lexico['genre'][:3]"
   ]
  },
  {
   "cell_type": "code",
   "execution_count": 9,
   "metadata": {},
   "outputs": [
    {
     "data": {
      "text/plain": [
       "[{'score': 88.64967823028564,\n",
       "  'item': {'id': '2f0c46c8-03c1-c9c0-cb49-fca8bdb0b84f',\n",
       "   'name': 'Female Vocal'}},\n",
       " {'score': 0.0,\n",
       "  'item': {'id': '0b897061-b94f-477f-9d72-06491f14a8de',\n",
       "   'name': 'Instrumental (no vocal)'}},\n",
       " {'score': 0.0,\n",
       "  'item': {'id': '2c967e7e-d9ee-817b-a332-ec8e5984ae50',\n",
       "   'name': 'Male Vocal'}}]"
      ]
     },
     "execution_count": 9,
     "metadata": {},
     "output_type": "execute_result"
    }
   ],
   "source": [
    "info_lexico['voices_family']"
   ]
  },
  {
   "cell_type": "code",
   "execution_count": 10,
   "metadata": {},
   "outputs": [],
   "source": [
    "url = \"https://api.prd.musimap.io/oauth/access_tokens\"\n",
    "client_id='098e17f0-0450-4a65-9fcd-4bde878b17e1'\n",
    "client_secret='SnEcbN4p73GZz6BAsC3UeAz7olVfMM1aG_KuP3PFJQch7-1s8zAe8LcpmUg4gI2mrIrEAw8xEqavV5agdbupqe82vQKtrLXKN9jH1Y2G_mBIYGDwK1TWnY80aTRUbbJcXkgttnNE22hTYoAp0ubuA5dH3cxbHSazESSCJkZsEpE'\n",
    "\n",
    "payload = 'grant_type=client_secret&client_id='+client_id+'&client_secret='+client_secret\n",
    "headers = {\n",
    "  'Content-Type': 'application/x-www-form-urlencoded'\n",
    "}\n",
    "\n",
    "response = requests.request(\"POST\", url, headers=headers, data = payload)\n",
    "\n",
    "TOKEN_MUSIMAP=response.json()['token']"
   ]
  },
  {
   "cell_type": "code",
   "execution_count": 11,
   "metadata": {},
   "outputs": [],
   "source": [
    "gettrackIDDATA = pd.read_csv('my_data/gettrackIDDATA.csv')"
   ]
  },
  {
   "cell_type": "raw",
   "metadata": {},
   "source": [
    "---> Toutes les 1000 requetes recreer un token !!!!"
   ]
  },
  {
   "cell_type": "code",
   "execution_count": 12,
   "metadata": {
    "scrolled": true
   },
   "outputs": [
    {
     "name": "stdout",
     "output_type": "stream",
     "text": [
      "0.0\n",
      "1.756\n",
      "3.512\n",
      "5.268\n",
      "7.024\n",
      "8.78\n",
      "10.536\n",
      "12.291\n",
      "14.047\n",
      "15.803\n",
      "17.559\n",
      "19.315\n",
      "21.071\n",
      "22.827\n",
      "24.583\n",
      "26.339\n",
      "28.095\n",
      "29.851\n",
      "31.607\n",
      "33.363\n",
      "35.119\n",
      "36.874\n",
      "38.63\n",
      "40.386\n",
      "42.142\n",
      "43.898\n",
      "45.654\n"
     ]
    },
    {
     "ename": "KeyboardInterrupt",
     "evalue": "",
     "output_type": "error",
     "traceback": [
      "\u001b[1;31m---------------------------------------------------------------------------\u001b[0m",
      "\u001b[1;31mKeyboardInterrupt\u001b[0m                         Traceback (most recent call last)",
      "\u001b[1;32m<ipython-input-12-a84b83ee856c>\u001b[0m in \u001b[0;36m<module>\u001b[1;34m\u001b[0m\n\u001b[0;32m     27\u001b[0m         \u001b[0mheaders\u001b[0m \u001b[1;33m=\u001b[0m \u001b[1;33m{\u001b[0m\u001b[1;34m'Authorization'\u001b[0m\u001b[1;33m:\u001b[0m \u001b[1;34m'Bearer '\u001b[0m\u001b[1;33m+\u001b[0m\u001b[0mTOKEN_MUSIMAP\u001b[0m\u001b[1;33m}\u001b[0m\u001b[1;33m\u001b[0m\u001b[1;33m\u001b[0m\u001b[0m\n\u001b[0;32m     28\u001b[0m \u001b[1;33m\u001b[0m\u001b[0m\n\u001b[1;32m---> 29\u001b[1;33m         \u001b[0mreq\u001b[0m \u001b[1;33m=\u001b[0m \u001b[0mrequests\u001b[0m\u001b[1;33m.\u001b[0m\u001b[0mrequest\u001b[0m\u001b[1;33m(\u001b[0m\u001b[1;34m\"GET\"\u001b[0m\u001b[1;33m,\u001b[0m \u001b[0murl\u001b[0m\u001b[1;33m+\u001b[0m\u001b[0mi\u001b[0m\u001b[1;33m[\u001b[0m\u001b[1;34m'preview_url'\u001b[0m\u001b[1;33m]\u001b[0m\u001b[1;33m,\u001b[0m \u001b[0mheaders\u001b[0m\u001b[1;33m=\u001b[0m\u001b[0mheaders\u001b[0m\u001b[1;33m,\u001b[0m \u001b[0mdata\u001b[0m \u001b[1;33m=\u001b[0m \u001b[0mpayload\u001b[0m\u001b[1;33m)\u001b[0m\u001b[1;33m\u001b[0m\u001b[1;33m\u001b[0m\u001b[0m\n\u001b[0m\u001b[0;32m     30\u001b[0m \u001b[1;33m\u001b[0m\u001b[0m\n\u001b[0;32m     31\u001b[0m         \u001b[1;32mif\u001b[0m \u001b[0mreq\u001b[0m\u001b[1;33m.\u001b[0m\u001b[0mstatus_code\u001b[0m \u001b[1;33m==\u001b[0m \u001b[1;36m403\u001b[0m\u001b[1;33m:\u001b[0m\u001b[1;33m\u001b[0m\u001b[1;33m\u001b[0m\u001b[0m\n",
      "\u001b[1;32mM:\\Programs\\Miniconda3\\envs\\NLP\\lib\\site-packages\\requests\\api.py\u001b[0m in \u001b[0;36mrequest\u001b[1;34m(method, url, **kwargs)\u001b[0m\n\u001b[0;32m     58\u001b[0m     \u001b[1;31m# cases, and look like a memory leak in others.\u001b[0m\u001b[1;33m\u001b[0m\u001b[1;33m\u001b[0m\u001b[1;33m\u001b[0m\u001b[0m\n\u001b[0;32m     59\u001b[0m     \u001b[1;32mwith\u001b[0m \u001b[0msessions\u001b[0m\u001b[1;33m.\u001b[0m\u001b[0mSession\u001b[0m\u001b[1;33m(\u001b[0m\u001b[1;33m)\u001b[0m \u001b[1;32mas\u001b[0m \u001b[0msession\u001b[0m\u001b[1;33m:\u001b[0m\u001b[1;33m\u001b[0m\u001b[1;33m\u001b[0m\u001b[0m\n\u001b[1;32m---> 60\u001b[1;33m         \u001b[1;32mreturn\u001b[0m \u001b[0msession\u001b[0m\u001b[1;33m.\u001b[0m\u001b[0mrequest\u001b[0m\u001b[1;33m(\u001b[0m\u001b[0mmethod\u001b[0m\u001b[1;33m=\u001b[0m\u001b[0mmethod\u001b[0m\u001b[1;33m,\u001b[0m \u001b[0murl\u001b[0m\u001b[1;33m=\u001b[0m\u001b[0murl\u001b[0m\u001b[1;33m,\u001b[0m \u001b[1;33m**\u001b[0m\u001b[0mkwargs\u001b[0m\u001b[1;33m)\u001b[0m\u001b[1;33m\u001b[0m\u001b[1;33m\u001b[0m\u001b[0m\n\u001b[0m\u001b[0;32m     61\u001b[0m \u001b[1;33m\u001b[0m\u001b[0m\n\u001b[0;32m     62\u001b[0m \u001b[1;33m\u001b[0m\u001b[0m\n",
      "\u001b[1;32mM:\\Programs\\Miniconda3\\envs\\NLP\\lib\\site-packages\\requests\\sessions.py\u001b[0m in \u001b[0;36mrequest\u001b[1;34m(self, method, url, params, data, headers, cookies, files, auth, timeout, allow_redirects, proxies, hooks, stream, verify, cert, json)\u001b[0m\n\u001b[0;32m    531\u001b[0m         }\n\u001b[0;32m    532\u001b[0m         \u001b[0msend_kwargs\u001b[0m\u001b[1;33m.\u001b[0m\u001b[0mupdate\u001b[0m\u001b[1;33m(\u001b[0m\u001b[0msettings\u001b[0m\u001b[1;33m)\u001b[0m\u001b[1;33m\u001b[0m\u001b[1;33m\u001b[0m\u001b[0m\n\u001b[1;32m--> 533\u001b[1;33m         \u001b[0mresp\u001b[0m \u001b[1;33m=\u001b[0m \u001b[0mself\u001b[0m\u001b[1;33m.\u001b[0m\u001b[0msend\u001b[0m\u001b[1;33m(\u001b[0m\u001b[0mprep\u001b[0m\u001b[1;33m,\u001b[0m \u001b[1;33m**\u001b[0m\u001b[0msend_kwargs\u001b[0m\u001b[1;33m)\u001b[0m\u001b[1;33m\u001b[0m\u001b[1;33m\u001b[0m\u001b[0m\n\u001b[0m\u001b[0;32m    534\u001b[0m \u001b[1;33m\u001b[0m\u001b[0m\n\u001b[0;32m    535\u001b[0m         \u001b[1;32mreturn\u001b[0m \u001b[0mresp\u001b[0m\u001b[1;33m\u001b[0m\u001b[1;33m\u001b[0m\u001b[0m\n",
      "\u001b[1;32mM:\\Programs\\Miniconda3\\envs\\NLP\\lib\\site-packages\\requests\\sessions.py\u001b[0m in \u001b[0;36msend\u001b[1;34m(self, request, **kwargs)\u001b[0m\n\u001b[0;32m    644\u001b[0m \u001b[1;33m\u001b[0m\u001b[0m\n\u001b[0;32m    645\u001b[0m         \u001b[1;31m# Send the request\u001b[0m\u001b[1;33m\u001b[0m\u001b[1;33m\u001b[0m\u001b[1;33m\u001b[0m\u001b[0m\n\u001b[1;32m--> 646\u001b[1;33m         \u001b[0mr\u001b[0m \u001b[1;33m=\u001b[0m \u001b[0madapter\u001b[0m\u001b[1;33m.\u001b[0m\u001b[0msend\u001b[0m\u001b[1;33m(\u001b[0m\u001b[0mrequest\u001b[0m\u001b[1;33m,\u001b[0m \u001b[1;33m**\u001b[0m\u001b[0mkwargs\u001b[0m\u001b[1;33m)\u001b[0m\u001b[1;33m\u001b[0m\u001b[1;33m\u001b[0m\u001b[0m\n\u001b[0m\u001b[0;32m    647\u001b[0m \u001b[1;33m\u001b[0m\u001b[0m\n\u001b[0;32m    648\u001b[0m         \u001b[1;31m# Total elapsed time of the request (approximately)\u001b[0m\u001b[1;33m\u001b[0m\u001b[1;33m\u001b[0m\u001b[1;33m\u001b[0m\u001b[0m\n",
      "\u001b[1;32mM:\\Programs\\Miniconda3\\envs\\NLP\\lib\\site-packages\\requests\\adapters.py\u001b[0m in \u001b[0;36msend\u001b[1;34m(self, request, stream, timeout, verify, cert, proxies)\u001b[0m\n\u001b[0;32m    447\u001b[0m                     \u001b[0mdecode_content\u001b[0m\u001b[1;33m=\u001b[0m\u001b[1;32mFalse\u001b[0m\u001b[1;33m,\u001b[0m\u001b[1;33m\u001b[0m\u001b[1;33m\u001b[0m\u001b[0m\n\u001b[0;32m    448\u001b[0m                     \u001b[0mretries\u001b[0m\u001b[1;33m=\u001b[0m\u001b[0mself\u001b[0m\u001b[1;33m.\u001b[0m\u001b[0mmax_retries\u001b[0m\u001b[1;33m,\u001b[0m\u001b[1;33m\u001b[0m\u001b[1;33m\u001b[0m\u001b[0m\n\u001b[1;32m--> 449\u001b[1;33m                     \u001b[0mtimeout\u001b[0m\u001b[1;33m=\u001b[0m\u001b[0mtimeout\u001b[0m\u001b[1;33m\u001b[0m\u001b[1;33m\u001b[0m\u001b[0m\n\u001b[0m\u001b[0;32m    450\u001b[0m                 )\n\u001b[0;32m    451\u001b[0m \u001b[1;33m\u001b[0m\u001b[0m\n",
      "\u001b[1;32mM:\\Programs\\Miniconda3\\envs\\NLP\\lib\\site-packages\\urllib3\\connectionpool.py\u001b[0m in \u001b[0;36murlopen\u001b[1;34m(self, method, url, body, headers, retries, redirect, assert_same_host, timeout, pool_timeout, release_conn, chunked, body_pos, **response_kw)\u001b[0m\n\u001b[0;32m    670\u001b[0m                 \u001b[0mbody\u001b[0m\u001b[1;33m=\u001b[0m\u001b[0mbody\u001b[0m\u001b[1;33m,\u001b[0m\u001b[1;33m\u001b[0m\u001b[1;33m\u001b[0m\u001b[0m\n\u001b[0;32m    671\u001b[0m                 \u001b[0mheaders\u001b[0m\u001b[1;33m=\u001b[0m\u001b[0mheaders\u001b[0m\u001b[1;33m,\u001b[0m\u001b[1;33m\u001b[0m\u001b[1;33m\u001b[0m\u001b[0m\n\u001b[1;32m--> 672\u001b[1;33m                 \u001b[0mchunked\u001b[0m\u001b[1;33m=\u001b[0m\u001b[0mchunked\u001b[0m\u001b[1;33m,\u001b[0m\u001b[1;33m\u001b[0m\u001b[1;33m\u001b[0m\u001b[0m\n\u001b[0m\u001b[0;32m    673\u001b[0m             )\n\u001b[0;32m    674\u001b[0m \u001b[1;33m\u001b[0m\u001b[0m\n",
      "\u001b[1;32mM:\\Programs\\Miniconda3\\envs\\NLP\\lib\\site-packages\\urllib3\\connectionpool.py\u001b[0m in \u001b[0;36m_make_request\u001b[1;34m(self, conn, method, url, timeout, chunked, **httplib_request_kw)\u001b[0m\n\u001b[0;32m    419\u001b[0m                     \u001b[1;31m# Python 3 (including for exceptions like SystemExit).\u001b[0m\u001b[1;33m\u001b[0m\u001b[1;33m\u001b[0m\u001b[1;33m\u001b[0m\u001b[0m\n\u001b[0;32m    420\u001b[0m                     \u001b[1;31m# Otherwise it looks like a bug in the code.\u001b[0m\u001b[1;33m\u001b[0m\u001b[1;33m\u001b[0m\u001b[1;33m\u001b[0m\u001b[0m\n\u001b[1;32m--> 421\u001b[1;33m                     \u001b[0msix\u001b[0m\u001b[1;33m.\u001b[0m\u001b[0mraise_from\u001b[0m\u001b[1;33m(\u001b[0m\u001b[0me\u001b[0m\u001b[1;33m,\u001b[0m \u001b[1;32mNone\u001b[0m\u001b[1;33m)\u001b[0m\u001b[1;33m\u001b[0m\u001b[1;33m\u001b[0m\u001b[0m\n\u001b[0m\u001b[0;32m    422\u001b[0m         \u001b[1;32mexcept\u001b[0m \u001b[1;33m(\u001b[0m\u001b[0mSocketTimeout\u001b[0m\u001b[1;33m,\u001b[0m \u001b[0mBaseSSLError\u001b[0m\u001b[1;33m,\u001b[0m \u001b[0mSocketError\u001b[0m\u001b[1;33m)\u001b[0m \u001b[1;32mas\u001b[0m \u001b[0me\u001b[0m\u001b[1;33m:\u001b[0m\u001b[1;33m\u001b[0m\u001b[1;33m\u001b[0m\u001b[0m\n\u001b[0;32m    423\u001b[0m             \u001b[0mself\u001b[0m\u001b[1;33m.\u001b[0m\u001b[0m_raise_timeout\u001b[0m\u001b[1;33m(\u001b[0m\u001b[0merr\u001b[0m\u001b[1;33m=\u001b[0m\u001b[0me\u001b[0m\u001b[1;33m,\u001b[0m \u001b[0murl\u001b[0m\u001b[1;33m=\u001b[0m\u001b[0murl\u001b[0m\u001b[1;33m,\u001b[0m \u001b[0mtimeout_value\u001b[0m\u001b[1;33m=\u001b[0m\u001b[0mread_timeout\u001b[0m\u001b[1;33m)\u001b[0m\u001b[1;33m\u001b[0m\u001b[1;33m\u001b[0m\u001b[0m\n",
      "\u001b[1;32mM:\\Programs\\Miniconda3\\envs\\NLP\\lib\\site-packages\\urllib3\\packages\\six.py\u001b[0m in \u001b[0;36mraise_from\u001b[1;34m(value, from_value)\u001b[0m\n",
      "\u001b[1;32mM:\\Programs\\Miniconda3\\envs\\NLP\\lib\\site-packages\\urllib3\\connectionpool.py\u001b[0m in \u001b[0;36m_make_request\u001b[1;34m(self, conn, method, url, timeout, chunked, **httplib_request_kw)\u001b[0m\n\u001b[0;32m    414\u001b[0m                 \u001b[1;31m# Python 3\u001b[0m\u001b[1;33m\u001b[0m\u001b[1;33m\u001b[0m\u001b[1;33m\u001b[0m\u001b[0m\n\u001b[0;32m    415\u001b[0m                 \u001b[1;32mtry\u001b[0m\u001b[1;33m:\u001b[0m\u001b[1;33m\u001b[0m\u001b[1;33m\u001b[0m\u001b[0m\n\u001b[1;32m--> 416\u001b[1;33m                     \u001b[0mhttplib_response\u001b[0m \u001b[1;33m=\u001b[0m \u001b[0mconn\u001b[0m\u001b[1;33m.\u001b[0m\u001b[0mgetresponse\u001b[0m\u001b[1;33m(\u001b[0m\u001b[1;33m)\u001b[0m\u001b[1;33m\u001b[0m\u001b[1;33m\u001b[0m\u001b[0m\n\u001b[0m\u001b[0;32m    417\u001b[0m                 \u001b[1;32mexcept\u001b[0m \u001b[0mBaseException\u001b[0m \u001b[1;32mas\u001b[0m \u001b[0me\u001b[0m\u001b[1;33m:\u001b[0m\u001b[1;33m\u001b[0m\u001b[1;33m\u001b[0m\u001b[0m\n\u001b[0;32m    418\u001b[0m                     \u001b[1;31m# Remove the TypeError from the exception chain in\u001b[0m\u001b[1;33m\u001b[0m\u001b[1;33m\u001b[0m\u001b[1;33m\u001b[0m\u001b[0m\n",
      "\u001b[1;32mM:\\Programs\\Miniconda3\\envs\\NLP\\lib\\http\\client.py\u001b[0m in \u001b[0;36mgetresponse\u001b[1;34m(self)\u001b[0m\n\u001b[0;32m   1329\u001b[0m         \u001b[1;32mtry\u001b[0m\u001b[1;33m:\u001b[0m\u001b[1;33m\u001b[0m\u001b[1;33m\u001b[0m\u001b[0m\n\u001b[0;32m   1330\u001b[0m             \u001b[1;32mtry\u001b[0m\u001b[1;33m:\u001b[0m\u001b[1;33m\u001b[0m\u001b[1;33m\u001b[0m\u001b[0m\n\u001b[1;32m-> 1331\u001b[1;33m                 \u001b[0mresponse\u001b[0m\u001b[1;33m.\u001b[0m\u001b[0mbegin\u001b[0m\u001b[1;33m(\u001b[0m\u001b[1;33m)\u001b[0m\u001b[1;33m\u001b[0m\u001b[1;33m\u001b[0m\u001b[0m\n\u001b[0m\u001b[0;32m   1332\u001b[0m             \u001b[1;32mexcept\u001b[0m \u001b[0mConnectionError\u001b[0m\u001b[1;33m:\u001b[0m\u001b[1;33m\u001b[0m\u001b[1;33m\u001b[0m\u001b[0m\n\u001b[0;32m   1333\u001b[0m                 \u001b[0mself\u001b[0m\u001b[1;33m.\u001b[0m\u001b[0mclose\u001b[0m\u001b[1;33m(\u001b[0m\u001b[1;33m)\u001b[0m\u001b[1;33m\u001b[0m\u001b[1;33m\u001b[0m\u001b[0m\n",
      "\u001b[1;32mM:\\Programs\\Miniconda3\\envs\\NLP\\lib\\http\\client.py\u001b[0m in \u001b[0;36mbegin\u001b[1;34m(self)\u001b[0m\n\u001b[0;32m    295\u001b[0m         \u001b[1;31m# read until we get a non-100 response\u001b[0m\u001b[1;33m\u001b[0m\u001b[1;33m\u001b[0m\u001b[1;33m\u001b[0m\u001b[0m\n\u001b[0;32m    296\u001b[0m         \u001b[1;32mwhile\u001b[0m \u001b[1;32mTrue\u001b[0m\u001b[1;33m:\u001b[0m\u001b[1;33m\u001b[0m\u001b[1;33m\u001b[0m\u001b[0m\n\u001b[1;32m--> 297\u001b[1;33m             \u001b[0mversion\u001b[0m\u001b[1;33m,\u001b[0m \u001b[0mstatus\u001b[0m\u001b[1;33m,\u001b[0m \u001b[0mreason\u001b[0m \u001b[1;33m=\u001b[0m \u001b[0mself\u001b[0m\u001b[1;33m.\u001b[0m\u001b[0m_read_status\u001b[0m\u001b[1;33m(\u001b[0m\u001b[1;33m)\u001b[0m\u001b[1;33m\u001b[0m\u001b[1;33m\u001b[0m\u001b[0m\n\u001b[0m\u001b[0;32m    298\u001b[0m             \u001b[1;32mif\u001b[0m \u001b[0mstatus\u001b[0m \u001b[1;33m!=\u001b[0m \u001b[0mCONTINUE\u001b[0m\u001b[1;33m:\u001b[0m\u001b[1;33m\u001b[0m\u001b[1;33m\u001b[0m\u001b[0m\n\u001b[0;32m    299\u001b[0m                 \u001b[1;32mbreak\u001b[0m\u001b[1;33m\u001b[0m\u001b[1;33m\u001b[0m\u001b[0m\n",
      "\u001b[1;32mM:\\Programs\\Miniconda3\\envs\\NLP\\lib\\http\\client.py\u001b[0m in \u001b[0;36m_read_status\u001b[1;34m(self)\u001b[0m\n\u001b[0;32m    256\u001b[0m \u001b[1;33m\u001b[0m\u001b[0m\n\u001b[0;32m    257\u001b[0m     \u001b[1;32mdef\u001b[0m \u001b[0m_read_status\u001b[0m\u001b[1;33m(\u001b[0m\u001b[0mself\u001b[0m\u001b[1;33m)\u001b[0m\u001b[1;33m:\u001b[0m\u001b[1;33m\u001b[0m\u001b[1;33m\u001b[0m\u001b[0m\n\u001b[1;32m--> 258\u001b[1;33m         \u001b[0mline\u001b[0m \u001b[1;33m=\u001b[0m \u001b[0mstr\u001b[0m\u001b[1;33m(\u001b[0m\u001b[0mself\u001b[0m\u001b[1;33m.\u001b[0m\u001b[0mfp\u001b[0m\u001b[1;33m.\u001b[0m\u001b[0mreadline\u001b[0m\u001b[1;33m(\u001b[0m\u001b[0m_MAXLINE\u001b[0m \u001b[1;33m+\u001b[0m \u001b[1;36m1\u001b[0m\u001b[1;33m)\u001b[0m\u001b[1;33m,\u001b[0m \u001b[1;34m\"iso-8859-1\"\u001b[0m\u001b[1;33m)\u001b[0m\u001b[1;33m\u001b[0m\u001b[1;33m\u001b[0m\u001b[0m\n\u001b[0m\u001b[0;32m    259\u001b[0m         \u001b[1;32mif\u001b[0m \u001b[0mlen\u001b[0m\u001b[1;33m(\u001b[0m\u001b[0mline\u001b[0m\u001b[1;33m)\u001b[0m \u001b[1;33m>\u001b[0m \u001b[0m_MAXLINE\u001b[0m\u001b[1;33m:\u001b[0m\u001b[1;33m\u001b[0m\u001b[1;33m\u001b[0m\u001b[0m\n\u001b[0;32m    260\u001b[0m             \u001b[1;32mraise\u001b[0m \u001b[0mLineTooLong\u001b[0m\u001b[1;33m(\u001b[0m\u001b[1;34m\"status line\"\u001b[0m\u001b[1;33m)\u001b[0m\u001b[1;33m\u001b[0m\u001b[1;33m\u001b[0m\u001b[0m\n",
      "\u001b[1;32mM:\\Programs\\Miniconda3\\envs\\NLP\\lib\\socket.py\u001b[0m in \u001b[0;36mreadinto\u001b[1;34m(self, b)\u001b[0m\n\u001b[0;32m    584\u001b[0m         \u001b[1;32mwhile\u001b[0m \u001b[1;32mTrue\u001b[0m\u001b[1;33m:\u001b[0m\u001b[1;33m\u001b[0m\u001b[1;33m\u001b[0m\u001b[0m\n\u001b[0;32m    585\u001b[0m             \u001b[1;32mtry\u001b[0m\u001b[1;33m:\u001b[0m\u001b[1;33m\u001b[0m\u001b[1;33m\u001b[0m\u001b[0m\n\u001b[1;32m--> 586\u001b[1;33m                 \u001b[1;32mreturn\u001b[0m \u001b[0mself\u001b[0m\u001b[1;33m.\u001b[0m\u001b[0m_sock\u001b[0m\u001b[1;33m.\u001b[0m\u001b[0mrecv_into\u001b[0m\u001b[1;33m(\u001b[0m\u001b[0mb\u001b[0m\u001b[1;33m)\u001b[0m\u001b[1;33m\u001b[0m\u001b[1;33m\u001b[0m\u001b[0m\n\u001b[0m\u001b[0;32m    587\u001b[0m             \u001b[1;32mexcept\u001b[0m \u001b[0mtimeout\u001b[0m\u001b[1;33m:\u001b[0m\u001b[1;33m\u001b[0m\u001b[1;33m\u001b[0m\u001b[0m\n\u001b[0;32m    588\u001b[0m                 \u001b[0mself\u001b[0m\u001b[1;33m.\u001b[0m\u001b[0m_timeout_occurred\u001b[0m \u001b[1;33m=\u001b[0m \u001b[1;32mTrue\u001b[0m\u001b[1;33m\u001b[0m\u001b[1;33m\u001b[0m\u001b[0m\n",
      "\u001b[1;32mM:\\Programs\\Miniconda3\\envs\\NLP\\lib\\site-packages\\urllib3\\contrib\\pyopenssl.py\u001b[0m in \u001b[0;36mrecv_into\u001b[1;34m(self, *args, **kwargs)\u001b[0m\n\u001b[0;32m    311\u001b[0m     \u001b[1;32mdef\u001b[0m \u001b[0mrecv_into\u001b[0m\u001b[1;33m(\u001b[0m\u001b[0mself\u001b[0m\u001b[1;33m,\u001b[0m \u001b[1;33m*\u001b[0m\u001b[0margs\u001b[0m\u001b[1;33m,\u001b[0m \u001b[1;33m**\u001b[0m\u001b[0mkwargs\u001b[0m\u001b[1;33m)\u001b[0m\u001b[1;33m:\u001b[0m\u001b[1;33m\u001b[0m\u001b[1;33m\u001b[0m\u001b[0m\n\u001b[0;32m    312\u001b[0m         \u001b[1;32mtry\u001b[0m\u001b[1;33m:\u001b[0m\u001b[1;33m\u001b[0m\u001b[1;33m\u001b[0m\u001b[0m\n\u001b[1;32m--> 313\u001b[1;33m             \u001b[1;32mreturn\u001b[0m \u001b[0mself\u001b[0m\u001b[1;33m.\u001b[0m\u001b[0mconnection\u001b[0m\u001b[1;33m.\u001b[0m\u001b[0mrecv_into\u001b[0m\u001b[1;33m(\u001b[0m\u001b[1;33m*\u001b[0m\u001b[0margs\u001b[0m\u001b[1;33m,\u001b[0m \u001b[1;33m**\u001b[0m\u001b[0mkwargs\u001b[0m\u001b[1;33m)\u001b[0m\u001b[1;33m\u001b[0m\u001b[1;33m\u001b[0m\u001b[0m\n\u001b[0m\u001b[0;32m    314\u001b[0m         \u001b[1;32mexcept\u001b[0m \u001b[0mOpenSSL\u001b[0m\u001b[1;33m.\u001b[0m\u001b[0mSSL\u001b[0m\u001b[1;33m.\u001b[0m\u001b[0mSysCallError\u001b[0m \u001b[1;32mas\u001b[0m \u001b[0me\u001b[0m\u001b[1;33m:\u001b[0m\u001b[1;33m\u001b[0m\u001b[1;33m\u001b[0m\u001b[0m\n\u001b[0;32m    315\u001b[0m             \u001b[1;32mif\u001b[0m \u001b[0mself\u001b[0m\u001b[1;33m.\u001b[0m\u001b[0msuppress_ragged_eofs\u001b[0m \u001b[1;32mand\u001b[0m \u001b[0me\u001b[0m\u001b[1;33m.\u001b[0m\u001b[0margs\u001b[0m \u001b[1;33m==\u001b[0m \u001b[1;33m(\u001b[0m\u001b[1;33m-\u001b[0m\u001b[1;36m1\u001b[0m\u001b[1;33m,\u001b[0m \u001b[1;34m\"Unexpected EOF\"\u001b[0m\u001b[1;33m)\u001b[0m\u001b[1;33m:\u001b[0m\u001b[1;33m\u001b[0m\u001b[1;33m\u001b[0m\u001b[0m\n",
      "\u001b[1;32mM:\\Programs\\Miniconda3\\envs\\NLP\\lib\\site-packages\\OpenSSL\\SSL.py\u001b[0m in \u001b[0;36mrecv_into\u001b[1;34m(self, buffer, nbytes, flags)\u001b[0m\n\u001b[0;32m   1819\u001b[0m             \u001b[0mresult\u001b[0m \u001b[1;33m=\u001b[0m \u001b[0m_lib\u001b[0m\u001b[1;33m.\u001b[0m\u001b[0mSSL_peek\u001b[0m\u001b[1;33m(\u001b[0m\u001b[0mself\u001b[0m\u001b[1;33m.\u001b[0m\u001b[0m_ssl\u001b[0m\u001b[1;33m,\u001b[0m \u001b[0mbuf\u001b[0m\u001b[1;33m,\u001b[0m \u001b[0mnbytes\u001b[0m\u001b[1;33m)\u001b[0m\u001b[1;33m\u001b[0m\u001b[1;33m\u001b[0m\u001b[0m\n\u001b[0;32m   1820\u001b[0m         \u001b[1;32melse\u001b[0m\u001b[1;33m:\u001b[0m\u001b[1;33m\u001b[0m\u001b[1;33m\u001b[0m\u001b[0m\n\u001b[1;32m-> 1821\u001b[1;33m             \u001b[0mresult\u001b[0m \u001b[1;33m=\u001b[0m \u001b[0m_lib\u001b[0m\u001b[1;33m.\u001b[0m\u001b[0mSSL_read\u001b[0m\u001b[1;33m(\u001b[0m\u001b[0mself\u001b[0m\u001b[1;33m.\u001b[0m\u001b[0m_ssl\u001b[0m\u001b[1;33m,\u001b[0m \u001b[0mbuf\u001b[0m\u001b[1;33m,\u001b[0m \u001b[0mnbytes\u001b[0m\u001b[1;33m)\u001b[0m\u001b[1;33m\u001b[0m\u001b[1;33m\u001b[0m\u001b[0m\n\u001b[0m\u001b[0;32m   1822\u001b[0m         \u001b[0mself\u001b[0m\u001b[1;33m.\u001b[0m\u001b[0m_raise_ssl_error\u001b[0m\u001b[1;33m(\u001b[0m\u001b[0mself\u001b[0m\u001b[1;33m.\u001b[0m\u001b[0m_ssl\u001b[0m\u001b[1;33m,\u001b[0m \u001b[0mresult\u001b[0m\u001b[1;33m)\u001b[0m\u001b[1;33m\u001b[0m\u001b[1;33m\u001b[0m\u001b[0m\n\u001b[0;32m   1823\u001b[0m \u001b[1;33m\u001b[0m\u001b[0m\n",
      "\u001b[1;31mKeyboardInterrupt\u001b[0m: "
     ]
    }
   ],
   "source": [
    "url = \"https://api.prd.musimap.io/musimotion/live?weblink=\"\n",
    "\n",
    "gettrackMUSIMAP=gettrackIDDATA[['SongID','trackID','preview_url']].copy()\n",
    "\n",
    "gettrackMUSIMAP['genre1']=0\n",
    "gettrackMUSIMAP['genre1_p']=0\n",
    "gettrackMUSIMAP['genre2']=0\n",
    "gettrackMUSIMAP['genre2_p']=0\n",
    "\n",
    "gettrackMUSIMAP['mood1']=0\n",
    "gettrackMUSIMAP['mood1_p']=0\n",
    "gettrackMUSIMAP['mood2']=0\n",
    "gettrackMUSIMAP['mood2_p']=0\n",
    "gettrackMUSIMAP['mood3']=0\n",
    "gettrackMUSIMAP['mood3_p']=0\n",
    "\n",
    "gettrackMUSIMAP['voc']=0\n",
    "gettrackMUSIMAP['voc_p']=0\n",
    "\n",
    "\n",
    "gettrackMUSIMAP=gettrackMUSIMAP.reset_index()\n",
    "\n",
    "for indexx,i in gettrackMUSIMAP.iterrows():\n",
    "    if i['preview_url'] != 0 and i['preview_url'] != None and i['preview_url'] == i['preview_url']:\n",
    "        \n",
    "        payload = {}\n",
    "        headers = {'Authorization': 'Bearer '+TOKEN_MUSIMAP}\n",
    "\n",
    "        req = requests.request(\"GET\", url+i['preview_url'], headers=headers, data = payload)\n",
    "        \n",
    "        if req.status_code == 403:\n",
    "            pass\n",
    "        if req.status_code == 200:\n",
    "            r = req.json()\n",
    "\n",
    "            if r['status'] == 200:\n",
    "\n",
    "                r = r['data']\n",
    "\n",
    "                r = r['lexicology']\n",
    "\n",
    "                gettrackMUSIMAP.loc[indexx,'genre1']=r['genre'][0]['item']['name']\n",
    "                gettrackMUSIMAP.loc[indexx,'genre1_p']=r['genre'][0]['score']\n",
    "                gettrackMUSIMAP.loc[indexx,'genre2']=r['genre'][1]['item']['name']\n",
    "                gettrackMUSIMAP.loc[indexx,'genre2_p']=r['genre'][1]['score']\n",
    "\n",
    "                gettrackMUSIMAP.loc[indexx,'mood1']=r['mood'][0]['item']['name']\n",
    "                gettrackMUSIMAP.loc[indexx,'mood1_p']=r['mood'][0]['score']\n",
    "                gettrackMUSIMAP.loc[indexx,'mood2']=r['mood'][1]['item']['name']\n",
    "                gettrackMUSIMAP.loc[indexx,'mood2_p']=r['mood'][1]['score']\n",
    "                gettrackMUSIMAP.loc[indexx,'mood3']=r['mood'][2]['item']['name']\n",
    "                gettrackMUSIMAP.loc[indexx,'mood3_p']=r['mood'][2]['score']\n",
    "\n",
    "                gettrackMUSIMAP.loc[indexx,'voc']=r['voices_family'][0]['item']['name']\n",
    "                gettrackMUSIMAP.loc[indexx,'voc_p']=r['voices_family'][0]['score']\n",
    "\n",
    "\n",
    "        time.sleep(0.5)\n",
    "        \n",
    "    if indexx % 500 ==0: \n",
    "        \n",
    "        print(round(indexx/len(gettrackMUSIMAP)*100,3))\n",
    "        urlTok = \"https://api.prd.musimap.io/oauth/access_tokens\"\n",
    "        client_id='098e17f0-0450-4a65-9fcd-4bde878b17e1'\n",
    "        client_secret='SnEcbN4p73GZz6BAsC3UeAz7olVfMM1aG_KuP3PFJQch7-1s8zAe8LcpmUg4gI2mrIrEAw8xEqavV5agdbupqe82vQKtrLXKN9jH1Y2G_mBIYGDwK1TWnY80aTRUbbJcXkgttnNE22hTYoAp0ubuA5dH3cxbHSazESSCJkZsEpE'\n",
    "\n",
    "        payload = 'grant_type=client_secret&client_id='+client_id+'&client_secret='+client_secret\n",
    "        headers = {\n",
    "          'Content-Type': 'application/x-www-form-urlencoded'\n",
    "        }\n",
    "\n",
    "        response = requests.request(\"POST\", urlTok, headers=headers, data = payload)\n",
    "\n",
    "        TOKEN_MUSIMAP=response.json()['token']"
   ]
  },
  {
   "cell_type": "code",
   "execution_count": 13,
   "metadata": {},
   "outputs": [],
   "source": [
    "gettrackMUSIMAP.to_csv(\"my_data/gettrackMUSIMAP.csv\")"
   ]
  },
  {
   "cell_type": "code",
   "execution_count": 15,
   "metadata": {},
   "outputs": [
    {
     "data": {
      "text/plain": [
       "0                           21949\n",
       "Pop                          2047\n",
       "Country                       568\n",
       "Soul                          430\n",
       "Electro Pop                   357\n",
       "Hip Hop / Rap                 321\n",
       "Rock                          254\n",
       "Soul Jazz                     231\n",
       "Alternative Rock              176\n",
       "Country Rock                  171\n",
       "Punk                          147\n",
       "R&B - Nu Soul                 146\n",
       "Metal                         143\n",
       "Trip Hop                      141\n",
       "Disco                         134\n",
       "Latin Pop - Latin Dance       119\n",
       "House                         108\n",
       "Blues                         106\n",
       "Pop Rock                      103\n",
       "Hard Rock                      94\n",
       "Dancehall                      94\n",
       "Dance Pop                      87\n",
       "Rock N Roll                    54\n",
       "Classical                      51\n",
       "Jazz                           47\n",
       "Funk                           41\n",
       "Reggae                         35\n",
       "Blues Rock                     26\n",
       "Rock New Wave                  25\n",
       "IDM - Electronica              24\n",
       "Folk                           23\n",
       "Eurodance                      21\n",
       "Breakbeat                      21\n",
       "EDM                            18\n",
       "New Wave                       18\n",
       "Symphony                       18\n",
       "Easy Listening                 17\n",
       "Indie Rock                     16\n",
       "Gospel                         13\n",
       "Salsa - Afro Cuban             11\n",
       "Big Band                       10\n",
       "Electro Body Music             10\n",
       "Vocal Jazz                      8\n",
       "Dubstep                         7\n",
       "Tech House                      6\n",
       "Techno                          6\n",
       "Speech                          5\n",
       "Chanson Francaise               3\n",
       "Drum & Bass                     3\n",
       "Industrial                      3\n",
       "Electric Blues                  2\n",
       "Church Music                    2\n",
       "Opera                           1\n",
       "Samba - Bossa Nova - MPB        1\n",
       "Dub                             1\n",
       "Nu Metal                        1\n",
       "Concerto                        1\n",
       "Name: genre1, dtype: int64"
      ]
     },
     "execution_count": 15,
     "metadata": {},
     "output_type": "execute_result"
    }
   ],
   "source": [
    "gettrackMUSIMAP['genre1'].value_counts()"
   ]
  },
  {
   "cell_type": "raw",
   "metadata": {},
   "source": [
    "{'status': 500, 'timestamp': 1588114935530, 'service': 'io.musimap.musimotion.gateway', 'error': 'Internal Server Error', 'message': 'Unexpected response from PredictionsManager service  (http://predictions-manager-v1-1). Call GET //predictions/analyze/live?skip_post_processing=false&musimotion_version=v1.3&media_file_uri=s3%3A%2F%2Fmusimap-catalog-prd%2F1fefcd88-613a-4ae3-a5de-6f6fbb99d129%2Flive%2F1588114934270.mp3 returned (500)\\n{\"status\":500,\"timestamp\":1588114935530,\"error\":\"Internal Server Error\"}'}"
   ]
  },
  {
   "cell_type": "code",
   "execution_count": null,
   "metadata": {},
   "outputs": [],
   "source": []
  }
 ],
 "metadata": {
  "kernelspec": {
   "display_name": "Python 3",
   "language": "python",
   "name": "python3"
  },
  "language_info": {
   "codemirror_mode": {
    "name": "ipython",
    "version": 3
   },
   "file_extension": ".py",
   "mimetype": "text/x-python",
   "name": "python",
   "nbconvert_exporter": "python",
   "pygments_lexer": "ipython3",
   "version": "3.6.7"
  }
 },
 "nbformat": 4,
 "nbformat_minor": 2
}
