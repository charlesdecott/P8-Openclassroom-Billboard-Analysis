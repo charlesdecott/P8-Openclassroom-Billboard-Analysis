{
 "cells": [
  {
   "cell_type": "code",
   "execution_count": 3,
   "metadata": {},
   "outputs": [],
   "source": [
    "import pandas as pd\n",
    "import numpy as np\n",
    "from datetime import datetime\n",
    "import matplotlib.pyplot as plt\n",
    "\n",
    "import json\n",
    "import time\n",
    "\n",
    "import requests"
   ]
  },
  {
   "cell_type": "code",
   "execution_count": 31,
   "metadata": {},
   "outputs": [],
   "source": [
    "url = \"https://api.prd.musimap.io/oauth/access_tokens\"\n",
    "client_id='098e17f0-0450-4a65-9fcd-4bde878b17e1'\n",
    "client_secret='SnEcbN4p73GZz6BAsC3UeAz7olVfMM1aG_KuP3PFJQch7-1s8zAe8LcpmUg4gI2mrIrEAw8xEqavV5agdbupqe82vQKtrLXKN9jH1Y2G_mBIYGDwK1TWnY80aTRUbbJcXkgttnNE22hTYoAp0ubuA5dH3cxbHSazESSCJkZsEpE'\n",
    "\n",
    "payload = 'grant_type=client_secret&client_id='+client_id+'&client_secret='+client_secret\n",
    "headers = {\n",
    "  'Content-Type': 'application/x-www-form-urlencoded'\n",
    "}\n",
    "\n",
    "response = requests.request(\"POST\", url, headers=headers, data = payload)\n",
    "\n",
    "TOKEN_MUSIMAP=response.json()['token']"
   ]
  },
  {
   "cell_type": "code",
   "execution_count": 32,
   "metadata": {},
   "outputs": [],
   "source": [
    "url = \"https://api.prd.musimap.io/musimotion/live?weblink=\"\n",
    "youtubeLink='https://p.scdn.co/mp3-preview/9a7b78842606df0c12021cba73e6883f6757387b?cid=ed490024ea5f4072810146d4d3dff356'\n",
    "\n",
    "payload = {}\n",
    "headers = {\n",
    "  'Authorization': 'Bearer '+TOKEN_MUSIMAP}\n",
    "\n",
    "response = requests.request(\"GET\", url+youtubeLink, headers=headers, data = payload)"
   ]
  },
  {
   "cell_type": "code",
   "execution_count": 6,
   "metadata": {},
   "outputs": [
    {
     "name": "stdout",
     "output_type": "stream",
     "text": [
      "mood\n",
      "{'score': 79.84987497329712, 'item': {'id': '3bf7fd61-d4a7-4cbc-8286-3fe4d17a3adf', 'name': 'Happy'}}\n",
      "{'score': 71.33474707603455, 'item': {'id': 'a8e784e7-60cb-4a9a-bc67-ed2b99a8c8dc', 'name': 'Revitalizing'}}\n",
      "{'score': 69.88357212127299, 'item': {'id': 'f05f72ad-e056-cea2-3bd2-e109efa0c02b', 'name': 'Happiness'}}\n",
      "{'score': 68.83124262094498, 'item': {'id': '2cc908b7-d8dd-42b7-9f26-f102130b05c5', 'name': 'Lively'}}\n",
      "{'score': 59.87345007150593, 'item': {'id': '1e66c428-f242-7510-c474-303c768870f4', 'name': 'Dynamism'}}\n",
      "{'score': 58.698296546936035, 'item': {'id': 'f1aea1a6-ca6a-4b20-b0f6-5a8ea50f6cb6', 'name': 'Friendly'}}\n",
      "{'score': 56.74162209033966, 'item': {'id': '27241d72-b61c-4f22-b390-01ac87bc1489', 'name': 'Energetic'}}\n",
      "{'score': 55.24854063987732, 'item': {'id': 'bd3ac812-726f-473c-a29b-0c2234435d19', 'name': 'Glamourous'}}\n",
      "{'score': 52.86633012044548, 'item': {'id': 'a03a702b-0ec4-300a-d18c-1542c9023315', 'name': 'Good vibrations'}}\n",
      "{'score': 43.3598330616951, 'item': {'id': '2cc67cfa-8c2d-44f1-b045-7d62608cd88a', 'name': 'Warm-hearted'}}\n",
      "acoustic_attribute\n",
      "{'score': 106.0, 'item': {'id': '582ba553-1b91-4425-88e4-d58432c9fee5', 'name': 'Bpm'}}\n",
      "{'score': 54.2848921484375, 'item': {'id': '06132ef1-2688-4032-9232-01a699193748', 'name': 'Spectral Energy'}}\n",
      "{'score': 52.421063903095714, 'item': {'id': '93a6f555-450e-4d1f-b3b4-0631d71f7441', 'name': 'Rhythm Presence'}}\n",
      "{'score': 30.0, 'item': {'id': '63588566-5b72-4d99-a685-1aade8dfe964', 'name': 'Duration'}}\n",
      "{'score': 0.0, 'item': {'id': '82fe3702-fca7-4493-8499-1f574d446acc', 'name': 'Key'}, 'value_label': 'A'}\n",
      "{'score': 0.0, 'item': {'id': '2a246dc3-e21f-4806-a91e-e6d621436310', 'name': 'Key Scale'}, 'value_label': 'minor'}\n",
      "genre\n",
      "{'score': 60.611191391944885, 'item': {'id': '20152b88-901e-4c57-867f-1ebe2176be40', 'name': 'Pop'}}\n",
      "{'score': 35.779811441898346, 'item': {'id': '744fdb65-8810-4a48-a16f-4238d6d814c9', 'name': 'Soul'}}\n",
      "{'score': 33.37658494710922, 'item': {'id': 'bd3e8438-479f-45df-a420-882d8f7cda76', 'name': 'R&B - Nu Soul'}}\n",
      "{'score': 32.385289669036865, 'item': {'id': '29c0c11f-5d86-4022-998f-a8d89cc9c4aa', 'name': 'Dance Pop'}}\n",
      "{'score': 22.973327487707138, 'item': {'id': '1623f780-3056-482b-b6e2-79a632c39360', 'name': 'Electro Pop'}}\n",
      "{'score': 21.423939615488052, 'item': {'id': 'aa90e487-352c-4da4-b3fa-1350ac08db0a', 'name': 'Pop Rock'}}\n",
      "rhythmic_mood\n",
      "{'score': 89.55248594284058, 'item': {'id': 'eba5e088-c286-d5e7-80a5-a1eae337b4d9', 'name': 'Staccato'}}\n",
      "{'score': 10.803522914648056, 'item': {'id': '044705ca-844f-932a-d15f-4fb8742d9c6b', 'name': 'Chaotic'}}\n",
      "{'score': 0.0, 'item': {'id': '39a3ef53-07d7-b274-471b-57fd23478f06', 'name': 'Stillness'}}\n",
      "voices_family\n",
      "{'score': 88.64967823028564, 'item': {'id': '2f0c46c8-03c1-c9c0-cb49-fca8bdb0b84f', 'name': 'Female Vocal'}}\n",
      "{'score': 0.0, 'item': {'id': '0b897061-b94f-477f-9d72-06491f14a8de', 'name': 'Instrumental (no vocal)'}}\n",
      "{'score': 0.0, 'item': {'id': '2c967e7e-d9ee-817b-a332-ec8e5984ae50', 'name': 'Male Vocal'}}\n",
      "situation\n",
      "{'score': 99.0, 'item': {'id': '1775137b-6281-8d53-ecc1-70936238eca9', 'name': 'Good times'}}\n",
      "{'score': 93.34285714285713, 'item': {'id': '3cf78511-f764-2f9a-ecc4-b8714a710c1c', 'name': 'Summer'}}\n",
      "{'score': 91.38461538461539, 'item': {'id': '617e4017-7f57-f662-7f91-edb61d2d576e', 'name': 'Birthday'}}\n",
      "{'score': 89.1, 'item': {'id': 'b3677017-79f7-11cc-5558-37e999603848', 'name': 'Family'}}\n",
      "{'score': 89.1, 'item': {'id': '562a3fcf-5c39-757a-1428-c5390123883e', 'name': 'Party time'}}\n",
      "{'score': 84.85714285714285, 'item': {'id': '640ebea2-8e54-018a-2c3a-1d5a31f3bd7a', 'name': 'Running'}}\n",
      "{'score': 83.85882352941177, 'item': {'id': '1cb5db89-f75d-6a3a-bf55-3042d2d6d025', 'name': 'Friday evening'}}\n",
      "{'score': 79.19999999999999, 'item': {'id': 'd11173a9-2253-9396-7d32-cbbba9a1853b', 'name': 'Young days'}}\n",
      "{'score': 79.19999999999999, 'item': {'id': 'ecc592c2-808f-a3f7-5e1f-c9108584e61f', 'name': 'Adrenaline (Sports & Action)'}}\n",
      "{'score': 79.19999999999999, 'item': {'id': 'fdd1bde3-bb22-571a-d501-fe4e8d3a0daa', 'name': 'Bar'}}\n"
     ]
    }
   ],
   "source": [
    "xxxx=response.json()['data']\n",
    "\n",
    "info_seed=xxxx['seed']\n",
    "info_lexico=xxxx['lexicology']\n",
    "\n",
    "for i in info_lexico:\n",
    "    print(i)\n",
    "    for j in info_lexico[i]:\n",
    "        print(j)"
   ]
  },
  {
   "cell_type": "code",
   "execution_count": 11,
   "metadata": {},
   "outputs": [
    {
     "data": {
      "text/plain": [
       "[{'score': 79.84987497329712,\n",
       "  'item': {'id': '3bf7fd61-d4a7-4cbc-8286-3fe4d17a3adf', 'name': 'Happy'}},\n",
       " {'score': 71.33474707603455,\n",
       "  'item': {'id': 'a8e784e7-60cb-4a9a-bc67-ed2b99a8c8dc',\n",
       "   'name': 'Revitalizing'}},\n",
       " {'score': 69.88357212127299,\n",
       "  'item': {'id': 'f05f72ad-e056-cea2-3bd2-e109efa0c02b', 'name': 'Happiness'}}]"
      ]
     },
     "execution_count": 11,
     "metadata": {},
     "output_type": "execute_result"
    }
   ],
   "source": [
    "info_lexico['mood'][:3]"
   ]
  },
  {
   "cell_type": "code",
   "execution_count": 16,
   "metadata": {},
   "outputs": [
    {
     "data": {
      "text/plain": [
       "79.84987497329712"
      ]
     },
     "execution_count": 16,
     "metadata": {},
     "output_type": "execute_result"
    }
   ],
   "source": [
    "info_lexico['mood'][0]['score']"
   ]
  },
  {
   "cell_type": "code",
   "execution_count": 15,
   "metadata": {},
   "outputs": [
    {
     "data": {
      "text/plain": [
       "'Happy'"
      ]
     },
     "execution_count": 15,
     "metadata": {},
     "output_type": "execute_result"
    }
   ],
   "source": [
    "info_lexico['mood'][0]['item']['name']"
   ]
  },
  {
   "cell_type": "code",
   "execution_count": 12,
   "metadata": {},
   "outputs": [
    {
     "data": {
      "text/plain": [
       "[{'score': 60.611191391944885,\n",
       "  'item': {'id': '20152b88-901e-4c57-867f-1ebe2176be40', 'name': 'Pop'}},\n",
       " {'score': 35.779811441898346,\n",
       "  'item': {'id': '744fdb65-8810-4a48-a16f-4238d6d814c9', 'name': 'Soul'}},\n",
       " {'score': 33.37658494710922,\n",
       "  'item': {'id': 'bd3e8438-479f-45df-a420-882d8f7cda76',\n",
       "   'name': 'R&B - Nu Soul'}}]"
      ]
     },
     "execution_count": 12,
     "metadata": {},
     "output_type": "execute_result"
    }
   ],
   "source": [
    "info_lexico['genre'][:3]"
   ]
  },
  {
   "cell_type": "code",
   "execution_count": 13,
   "metadata": {},
   "outputs": [
    {
     "data": {
      "text/plain": [
       "[{'score': 88.64967823028564,\n",
       "  'item': {'id': '2f0c46c8-03c1-c9c0-cb49-fca8bdb0b84f',\n",
       "   'name': 'Female Vocal'}},\n",
       " {'score': 0.0,\n",
       "  'item': {'id': '0b897061-b94f-477f-9d72-06491f14a8de',\n",
       "   'name': 'Instrumental (no vocal)'}},\n",
       " {'score': 0.0,\n",
       "  'item': {'id': '2c967e7e-d9ee-817b-a332-ec8e5984ae50',\n",
       "   'name': 'Male Vocal'}}]"
      ]
     },
     "execution_count": 13,
     "metadata": {},
     "output_type": "execute_result"
    }
   ],
   "source": [
    "info_lexico['voices_family']"
   ]
  },
  {
   "cell_type": "code",
   "execution_count": 26,
   "metadata": {},
   "outputs": [],
   "source": [
    "url = \"https://api.prd.musimap.io/oauth/access_tokens\"\n",
    "client_id='098e17f0-0450-4a65-9fcd-4bde878b17e1'\n",
    "client_secret='SnEcbN4p73GZz6BAsC3UeAz7olVfMM1aG_KuP3PFJQch7-1s8zAe8LcpmUg4gI2mrIrEAw8xEqavV5agdbupqe82vQKtrLXKN9jH1Y2G_mBIYGDwK1TWnY80aTRUbbJcXkgttnNE22hTYoAp0ubuA5dH3cxbHSazESSCJkZsEpE'\n",
    "\n",
    "payload = 'grant_type=client_secret&client_id='+client_id+'&client_secret='+client_secret\n",
    "headers = {\n",
    "  'Content-Type': 'application/x-www-form-urlencoded'\n",
    "}\n",
    "\n",
    "response = requests.request(\"POST\", url, headers=headers, data = payload)\n",
    "\n",
    "TOKEN_MUSIMAP=response.json()['token']"
   ]
  },
  {
   "cell_type": "code",
   "execution_count": 50,
   "metadata": {},
   "outputs": [],
   "source": [
    "gettrackIDDATA = pd.read_csv('my_data/gettrackIDDATA.csv')"
   ]
  },
  {
   "cell_type": "code",
   "execution_count": null,
   "metadata": {
    "scrolled": true
   },
   "outputs": [
    {
     "name": "stdout",
     "output_type": "stream",
     "text": [
      "0.0\n"
     ]
    }
   ],
   "source": [
    "url = \"https://api.prd.musimap.io/musimotion/live?weblink=\"\n",
    "\n",
    "gettrackMUSIMAP=gettrackIDDATA[['SongID','trackID','preview_url']].copy()\n",
    "\n",
    "gettrackMUSIMAP['genre1']=0\n",
    "gettrackMUSIMAP['genre1_p']=0\n",
    "gettrackMUSIMAP['genre2']=0\n",
    "gettrackMUSIMAP['genre2_p']=0\n",
    "\n",
    "gettrackMUSIMAP['mood1']=0\n",
    "gettrackMUSIMAP['mood1_p']=0\n",
    "gettrackMUSIMAP['mood2']=0\n",
    "gettrackMUSIMAP['mood2_p']=0\n",
    "gettrackMUSIMAP['mood3']=0\n",
    "gettrackMUSIMAP['mood3_p']=0\n",
    "\n",
    "gettrackMUSIMAP['voc']=0\n",
    "gettrackMUSIMAP['voc_p']=0\n",
    "\n",
    "\n",
    "gettrackMUSIMAP=gettrackMUSIMAP.reset_index()\n",
    "\n",
    "for indexx,i in gettrackMUSIMAP.iterrows():\n",
    "    if i['preview_url'] != 0 and i['preview_url'] != None and i['preview_url'] == i['preview_url']:\n",
    "        \n",
    "        payload = {}\n",
    "        headers = {'Authorization': 'Bearer '+TOKEN_MUSIMAP}\n",
    "\n",
    "        req = requests.request(\"GET\", url+i['preview_url'], headers=headers, data = payload)\n",
    "        \n",
    "        if req.status_code == 200:\n",
    "            r = req.json()\n",
    "\n",
    "            if r['status'] == 200:\n",
    "\n",
    "                r = r['data']\n",
    "\n",
    "                r = r['lexicology']\n",
    "\n",
    "                gettrackMUSIMAP.loc[indexx,'genre1']=r['genre'][0]['item']['name']\n",
    "                gettrackMUSIMAP.loc[indexx,'genre1_p']=r['genre'][0]['score']\n",
    "                gettrackMUSIMAP.loc[indexx,'genre2']=r['genre'][1]['item']['name']\n",
    "                gettrackMUSIMAP.loc[indexx,'genre2_p']=r['genre'][1]['score']\n",
    "\n",
    "                gettrackMUSIMAP.loc[indexx,'mood1']=r['mood'][0]['item']['name']\n",
    "                gettrackMUSIMAP.loc[indexx,'mood1_p']=r['mood'][0]['score']\n",
    "                gettrackMUSIMAP.loc[indexx,'mood2']=r['mood'][1]['item']['name']\n",
    "                gettrackMUSIMAP.loc[indexx,'mood2_p']=r['mood'][1]['score']\n",
    "                gettrackMUSIMAP.loc[indexx,'mood3']=r['mood'][2]['item']['name']\n",
    "                gettrackMUSIMAP.loc[indexx,'mood3_p']=r['mood'][2]['score']\n",
    "\n",
    "                gettrackMUSIMAP.loc[indexx,'voc']=r['voices_family'][0]['item']['name']\n",
    "                gettrackMUSIMAP.loc[indexx,'voc_p']=r['voices_family'][0]['score']\n",
    "\n",
    "\n",
    "        time.sleep(1)\n",
    "        \n",
    "    if indexx % 500 ==0: \n",
    "        \n",
    "        print(round(indexx/len(gettrackMUSIMAP)*100,3))"
   ]
  },
  {
   "cell_type": "code",
   "execution_count": null,
   "metadata": {},
   "outputs": [],
   "source": [
    "gettrackMUSIMAP.to_csv(\"my_data/gettrackMUSIMAP.csv\")"
   ]
  },
  {
   "cell_type": "raw",
   "metadata": {},
   "source": [
    "{'status': 500, 'timestamp': 1588114935530, 'service': 'io.musimap.musimotion.gateway', 'error': 'Internal Server Error', 'message': 'Unexpected response from PredictionsManager service  (http://predictions-manager-v1-1). Call GET //predictions/analyze/live?skip_post_processing=false&musimotion_version=v1.3&media_file_uri=s3%3A%2F%2Fmusimap-catalog-prd%2F1fefcd88-613a-4ae3-a5de-6f6fbb99d129%2Flive%2F1588114934270.mp3 returned (500)\\n{\"status\":500,\"timestamp\":1588114935530,\"error\":\"Internal Server Error\"}'}"
   ]
  },
  {
   "cell_type": "code",
   "execution_count": null,
   "metadata": {},
   "outputs": [],
   "source": []
  }
 ],
 "metadata": {
  "kernelspec": {
   "display_name": "Python 3",
   "language": "python",
   "name": "python3"
  },
  "language_info": {
   "codemirror_mode": {
    "name": "ipython",
    "version": 3
   },
   "file_extension": ".py",
   "mimetype": "text/x-python",
   "name": "python",
   "nbconvert_exporter": "python",
   "pygments_lexer": "ipython3",
   "version": "3.6.7"
  }
 },
 "nbformat": 4,
 "nbformat_minor": 2
}
