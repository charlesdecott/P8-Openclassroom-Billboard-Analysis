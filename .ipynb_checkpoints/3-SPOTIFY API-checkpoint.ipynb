{
 "cells": [
  {
   "cell_type": "code",
   "execution_count": null,
   "metadata": {},
   "outputs": [],
   "source": [
    "import pandas as pd\n",
    "import numpy as np\n",
    "from datetime import datetime\n",
    "import matplotlib.pyplot as plt\n",
    "\n",
    "import spotipy\n",
    "from spotipy.oauth2 import SpotifyClientCredentials\n",
    "import spotipy.util as util\n",
    "import spotipy.client as client\n",
    "\n",
    "import json\n",
    "import time\n",
    "\n",
    "import requests"
   ]
  },
  {
   "cell_type": "code",
   "execution_count": null,
   "metadata": {},
   "outputs": [],
   "source": []
  },
  {
   "cell_type": "code",
   "execution_count": null,
   "metadata": {},
   "outputs": [],
   "source": [
    "songs_df=pd.read_csv('my_data/songs_billboard.csv')\n",
    "artists_df=pd.read_csv('my_data/artistes_billboard.csv')\n",
    "billboard = pd.read_csv('my_data/my_billboard.csv')\n",
    "spotify_df = pd.read_csv('my_data/my_spotify.csv')"
   ]
  },
  {
   "cell_type": "code",
   "execution_count": null,
   "metadata": {},
   "outputs": [],
   "source": []
  },
  {
   "cell_type": "code",
   "execution_count": null,
   "metadata": {},
   "outputs": [],
   "source": [
    "cid = 'ed490024ea5f4072810146d4d3dff356'\n",
    "secret = 'b74fa8fd014f4932bb15e79572a104fe'\n",
    "\n",
    "client_credentials_manager = SpotifyClientCredentials(client_id=cid, client_secret=secret)\n",
    "\n",
    "sp = client.Spotify(client_credentials_manager=client_credentials_manager)\n",
    "sp.trace = False"
   ]
  },
  {
   "cell_type": "code",
   "execution_count": null,
   "metadata": {},
   "outputs": [],
   "source": []
  },
  {
   "cell_type": "code",
   "execution_count": null,
   "metadata": {},
   "outputs": [],
   "source": [
    "def getAudioFeatureSpotify(sp,tids):\n",
    "    return sp.audio_features(tids)[0]\n",
    "\n",
    "def keepGoodFeatures(features):\n",
    "    newFeatures={\n",
    "        'danceability': features['danceability'],\n",
    "        'energy': features['energy'],\n",
    "        'key': features['key'],\n",
    "        'loudness': features['loudness'],\n",
    "        'mode': features['mode'],\n",
    "        'speechiness': features['speechiness'],\n",
    "        'acousticness': features['acousticness'],\n",
    "        'instrumentalness': features['instrumentalness'],\n",
    "        'liveness': features['liveness'],\n",
    "        'valence': features['valence'],\n",
    "        'tempo': features['tempo'],\n",
    "        'duration_ms': features['duration_ms'],\n",
    "                }\n",
    "    return newFeatures\n",
    "\n",
    "def searchSpotify(titre):\n",
    "    result = sp.search(titre,limit=1,type='track')['tracks']['items']\n",
    "    if len(result) <=0:\n",
    "        return result\n",
    "    else :\n",
    "        return result[0]"
   ]
  },
  {
   "cell_type": "code",
   "execution_count": null,
   "metadata": {},
   "outputs": [],
   "source": []
  },
  {
   "cell_type": "code",
   "execution_count": null,
   "metadata": {},
   "outputs": [],
   "source": [
    "xj['& in name']=xj['Performer'].apply(lambda x: '&' in x)\n",
    "xj['is Costarring']=xj['Performer'].apply(lambda x: 'Co-Starring' in x)\n",
    "\n",
    "xj['is With']=xj['Performer'].apply(lambda x: 'With' in x)\n",
    "\n",
    "xj['is /']=xj['SongID'].apply(lambda x: '/' in x)\n",
    "\n",
    "xj['is (']=xj['SongID'].apply(lambda x: '(' in x)"
   ]
  }
 ],
 "metadata": {
  "kernelspec": {
   "display_name": "Python 3",
   "language": "python",
   "name": "python3"
  },
  "language_info": {
   "codemirror_mode": {
    "name": "ipython",
    "version": 3
   },
   "file_extension": ".py",
   "mimetype": "text/x-python",
   "name": "python",
   "nbconvert_exporter": "python",
   "pygments_lexer": "ipython3",
   "version": "3.6.7"
  }
 },
 "nbformat": 4,
 "nbformat_minor": 2
}
