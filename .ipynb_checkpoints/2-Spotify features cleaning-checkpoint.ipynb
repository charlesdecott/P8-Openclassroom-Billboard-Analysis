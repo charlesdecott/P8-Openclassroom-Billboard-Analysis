{
 "cells": [
  {
   "cell_type": "code",
   "execution_count": 10,
   "metadata": {},
   "outputs": [],
   "source": [
    "import pandas as pd\n",
    "import numpy as np\n",
    "from datetime import datetime\n",
    "import matplotlib.pyplot as plt\n",
    "\n",
    "import spotipy\n",
    "from spotipy.oauth2 import SpotifyClientCredentials\n",
    "import spotipy.util as util\n",
    "import spotipy.client as client\n",
    "\n",
    "import json\n",
    "import time\n",
    "\n",
    "import requests"
   ]
  },
  {
   "cell_type": "markdown",
   "metadata": {},
   "source": [
    "## Import billboard data"
   ]
  },
  {
   "cell_type": "code",
   "execution_count": 11,
   "metadata": {},
   "outputs": [],
   "source": [
    "songs_df=pd.read_csv('my_data/songs_billboard.csv')\n",
    "artists_df=pd.read_csv('my_data/artistes_billboard.csv')\n",
    "billboard = pd.read_csv('my_data/my_billboard.csv')"
   ]
  },
  {
   "cell_type": "markdown",
   "metadata": {},
   "source": [
    "## Import spotify features"
   ]
  },
  {
   "cell_type": "code",
   "execution_count": 12,
   "metadata": {},
   "outputs": [
    {
     "name": "stdout",
     "output_type": "stream",
     "text": [
      "28482\n"
     ]
    }
   ],
   "source": [
    "spotifyFeatures = pd.read_csv(\"data/features_billboard.csv\")\n",
    "\n",
    "spotifyFeatures=spotifyFeatures[['SongID','spotify_genre','spotify_track_id',\n",
    "                                 'spotify_track_explicit','spotify_track_duration_ms',\n",
    "                                'danceability', 'energy', 'loudness', 'speechiness',\n",
    "                                 'acousticness', 'instrumentalness','valence', 'tempo']]\n",
    "\n",
    "print(len(spotifyFeatures))"
   ]
  },
  {
   "cell_type": "markdown",
   "metadata": {},
   "source": [
    "## Change type str to float on features columns"
   ]
  },
  {
   "cell_type": "code",
   "execution_count": 13,
   "metadata": {},
   "outputs": [],
   "source": [
    "def changeStrFloatToFloat_df(df,column):\n",
    "    df[column]=df[column].apply(lambda x:str(x))\n",
    "    df[column]=df[column].apply(lambda x:x.replace(\",\", \".\"))\n",
    "    df[column]=df[column].astype(float)\n",
    "    \n",
    "    return df"
   ]
  },
  {
   "cell_type": "code",
   "execution_count": 14,
   "metadata": {},
   "outputs": [],
   "source": [
    "columns=['danceability', 'energy', 'loudness', 'speechiness','acousticness', 'instrumentalness','valence', 'tempo']\n",
    "for col in columns:\n",
    "    spotifyFeatures=changeStrFloatToFloat_df(spotifyFeatures,col)"
   ]
  },
  {
   "cell_type": "markdown",
   "metadata": {},
   "source": [
    "## DUPLICATS"
   ]
  },
  {
   "cell_type": "code",
   "execution_count": 15,
   "metadata": {},
   "outputs": [
    {
     "name": "stdout",
     "output_type": "stream",
     "text": [
      "28482\n",
      "28377\n"
     ]
    }
   ],
   "source": [
    "print(len(spotifyFeatures))\n",
    "\n",
    "spotifyFeatures = spotifyFeatures.drop_duplicates() # Presence de 105 duplicats\n",
    "\n",
    "print(len(spotifyFeatures))"
   ]
  },
  {
   "cell_type": "markdown",
   "metadata": {},
   "source": [
    "## Merge billboard and spotify data"
   ]
  },
  {
   "cell_type": "code",
   "execution_count": 16,
   "metadata": {},
   "outputs": [],
   "source": [
    "songs_features_df = pd.merge(songs_df,spotifyFeatures,how='left')"
   ]
  },
  {
   "cell_type": "code",
   "execution_count": 17,
   "metadata": {},
   "outputs": [
    {
     "name": "stdout",
     "output_type": "stream",
     "text": [
      "len : 28475\n"
     ]
    },
    {
     "data": {
      "text/plain": [
       "SongID                          0\n",
       "year                            0\n",
       "comboWeek                       0\n",
       "comboInstance                   0\n",
       "maxPose                         0\n",
       "top1                            0\n",
       "top5                            0\n",
       "top10                           0\n",
       "spotify_genre                1325\n",
       "spotify_track_id             4839\n",
       "spotify_track_explicit       4839\n",
       "spotify_track_duration_ms    4839\n",
       "danceability                 4902\n",
       "energy                       4902\n",
       "loudness                     4902\n",
       "speechiness                  4902\n",
       "acousticness                 4902\n",
       "instrumentalness             4902\n",
       "valence                      4902\n",
       "tempo                        4902\n",
       "dtype: int64"
      ]
     },
     "execution_count": 17,
     "metadata": {},
     "output_type": "execute_result"
    }
   ],
   "source": [
    "print(\"len :\",len(songs_features_df))\n",
    "songs_features_df.isnull().sum()"
   ]
  },
  {
   "cell_type": "markdown",
   "metadata": {},
   "source": [
    "## Repartion des track ID spotify manquant par année"
   ]
  },
  {
   "cell_type": "code",
   "execution_count": 18,
   "metadata": {},
   "outputs": [],
   "source": [
    "idMissing = songs_features_df['spotify_track_id'].isnull()\n",
    "idMissing=idMissing[idMissing == True].index"
   ]
  },
  {
   "cell_type": "code",
   "execution_count": 19,
   "metadata": {},
   "outputs": [
    {
     "data": {
      "image/png": "[encoded data removed]",
      "text/plain": [
       "<Figure size 432x288 with 1 Axes>"
      ]
     },
     "metadata": {
      "needs_background": "light"
     },
     "output_type": "display_data"
    }
   ],
   "source": [
    "xx=songs_features_df.loc[idMissing]\n",
    "\n",
    "xx=xx['year'].value_counts().sort_index()\n",
    "\n",
    "plt.plot(xx.index,xx.values)\n",
    "plt.bar(xx.index,xx.values,color='y')\n",
    "plt.grid()\n",
    "plt.title('Spotify Id Track manquant par année')\n",
    "plt.ylabel('Effectif')\n",
    "plt.show()"
   ]
  },
  {
   "cell_type": "markdown",
   "metadata": {},
   "source": [
    "### RECAP DATAFRAME"
   ]
  },
  {
   "cell_type": "code",
   "execution_count": 21,
   "metadata": {},
   "outputs": [
    {
     "data": {
      "text/html": [
       "<div>\n",
       "<style scoped>\n",
       "    .dataframe tbody tr th:only-of-type {\n",
       "        vertical-align: middle;\n",
       "    }\n",
       "\n",
       "    .dataframe tbody tr th {\n",
       "        vertical-align: top;\n",
       "    }\n",
       "\n",
       "    .dataframe thead th {\n",
       "        text-align: right;\n",
       "    }\n",
       "</style>\n",
       "<table border=\"1\" class=\"dataframe\">\n",
       "  <thead>\n",
       "    <tr style=\"text-align: right;\">\n",
       "      <th></th>\n",
       "      <th>SongID</th>\n",
       "      <th>year</th>\n",
       "      <th>comboWeek</th>\n",
       "      <th>comboInstance</th>\n",
       "      <th>maxPose</th>\n",
       "      <th>top1</th>\n",
       "      <th>top5</th>\n",
       "      <th>top10</th>\n",
       "      <th>spotify_genre</th>\n",
       "      <th>spotify_track_id</th>\n",
       "      <th>spotify_track_explicit</th>\n",
       "      <th>spotify_track_duration_ms</th>\n",
       "      <th>danceability</th>\n",
       "      <th>energy</th>\n",
       "      <th>loudness</th>\n",
       "      <th>speechiness</th>\n",
       "      <th>acousticness</th>\n",
       "      <th>instrumentalness</th>\n",
       "      <th>valence</th>\n",
       "      <th>tempo</th>\n",
       "    </tr>\n",
       "  </thead>\n",
       "  <tbody>\n",
       "    <tr>\n",
       "      <td>28470</td>\n",
       "      <td>What'd You Come Here For?Trina &amp; Tamara</td>\n",
       "      <td>1999</td>\n",
       "      <td>12</td>\n",
       "      <td>1</td>\n",
       "      <td>56</td>\n",
       "      <td>0</td>\n",
       "      <td>0</td>\n",
       "      <td>0</td>\n",
       "      <td>['deep pop r&amp;b', 'hip pop', 'miami hip hop', '...</td>\n",
       "      <td>1Mg13VMaQj4fhPtQT41vUZ</td>\n",
       "      <td>False</td>\n",
       "      <td>246000.0</td>\n",
       "      <td>0.817</td>\n",
       "      <td>0.625</td>\n",
       "      <td>-3.643</td>\n",
       "      <td>0.0719</td>\n",
       "      <td>0.0508</td>\n",
       "      <td>0.001230</td>\n",
       "      <td>0.759</td>\n",
       "      <td>102.907</td>\n",
       "    </tr>\n",
       "    <tr>\n",
       "      <td>28471</td>\n",
       "      <td>What's A Guy Gotta DoJoe Nichols</td>\n",
       "      <td>2005</td>\n",
       "      <td>15</td>\n",
       "      <td>2</td>\n",
       "      <td>64</td>\n",
       "      <td>0</td>\n",
       "      <td>0</td>\n",
       "      <td>0</td>\n",
       "      <td>['arkansas country', 'contemporary country', '...</td>\n",
       "      <td>3AiNYdRmhXcv7KCFHZOddA</td>\n",
       "      <td>False</td>\n",
       "      <td>141946.0</td>\n",
       "      <td>0.637</td>\n",
       "      <td>0.963</td>\n",
       "      <td>-3.808</td>\n",
       "      <td>0.0770</td>\n",
       "      <td>0.6620</td>\n",
       "      <td>0.000031</td>\n",
       "      <td>0.920</td>\n",
       "      <td>170.224</td>\n",
       "    </tr>\n",
       "    <tr>\n",
       "      <td>28472</td>\n",
       "      <td>What's A Matter Baby (Is It Hurting You)Timi Yuro</td>\n",
       "      <td>1962</td>\n",
       "      <td>11</td>\n",
       "      <td>1</td>\n",
       "      <td>12</td>\n",
       "      <td>0</td>\n",
       "      <td>0</td>\n",
       "      <td>0</td>\n",
       "      <td>['adult standards', 'brill building pop']</td>\n",
       "      <td>5w0dh39SYz1ei2tCs7X7Fo</td>\n",
       "      <td>False</td>\n",
       "      <td>165560.0</td>\n",
       "      <td>0.685</td>\n",
       "      <td>0.760</td>\n",
       "      <td>-9.354</td>\n",
       "      <td>0.0430</td>\n",
       "      <td>0.4300</td>\n",
       "      <td>0.000000</td>\n",
       "      <td>0.895</td>\n",
       "      <td>113.569</td>\n",
       "    </tr>\n",
       "    <tr>\n",
       "      <td>28473</td>\n",
       "      <td>Everybody Dies In Their NightmaresXXXTENTACION</td>\n",
       "      <td>2018</td>\n",
       "      <td>7</td>\n",
       "      <td>2</td>\n",
       "      <td>42</td>\n",
       "      <td>0</td>\n",
       "      <td>0</td>\n",
       "      <td>0</td>\n",
       "      <td>NaN</td>\n",
       "      <td>NaN</td>\n",
       "      <td>NaN</td>\n",
       "      <td>NaN</td>\n",
       "      <td>NaN</td>\n",
       "      <td>NaN</td>\n",
       "      <td>NaN</td>\n",
       "      <td>NaN</td>\n",
       "      <td>NaN</td>\n",
       "      <td>NaN</td>\n",
       "      <td>NaN</td>\n",
       "      <td>NaN</td>\n",
       "    </tr>\n",
       "    <tr>\n",
       "      <td>28474</td>\n",
       "      <td>Into The Great Wide OpenTom Petty And The Hear...</td>\n",
       "      <td>1991</td>\n",
       "      <td>5</td>\n",
       "      <td>1</td>\n",
       "      <td>92</td>\n",
       "      <td>0</td>\n",
       "      <td>0</td>\n",
       "      <td>0</td>\n",
       "      <td>NaN</td>\n",
       "      <td>NaN</td>\n",
       "      <td>NaN</td>\n",
       "      <td>NaN</td>\n",
       "      <td>NaN</td>\n",
       "      <td>NaN</td>\n",
       "      <td>NaN</td>\n",
       "      <td>NaN</td>\n",
       "      <td>NaN</td>\n",
       "      <td>NaN</td>\n",
       "      <td>NaN</td>\n",
       "      <td>NaN</td>\n",
       "    </tr>\n",
       "  </tbody>\n",
       "</table>\n",
       "</div>"
      ],
      "text/plain": [
       "                                                  SongID  year  comboWeek  \\\n",
       "28470            What'd You Come Here For?Trina & Tamara  1999         12   \n",
       "28471                   What's A Guy Gotta DoJoe Nichols  2005         15   \n",
       "28472  What's A Matter Baby (Is It Hurting You)Timi Yuro  1962         11   \n",
       "28473     Everybody Dies In Their NightmaresXXXTENTACION  2018          7   \n",
       "28474  Into The Great Wide OpenTom Petty And The Hear...  1991          5   \n",
       "\n",
       "       comboInstance  maxPose  top1  top5  top10  \\\n",
       "28470              1       56     0     0      0   \n",
       "28471              2       64     0     0      0   \n",
       "28472              1       12     0     0      0   \n",
       "28473              2       42     0     0      0   \n",
       "28474              1       92     0     0      0   \n",
       "\n",
       "                                           spotify_genre  \\\n",
       "28470  ['deep pop r&b', 'hip pop', 'miami hip hop', '...   \n",
       "28471  ['arkansas country', 'contemporary country', '...   \n",
       "28472          ['adult standards', 'brill building pop']   \n",
       "28473                                                NaN   \n",
       "28474                                                NaN   \n",
       "\n",
       "             spotify_track_id spotify_track_explicit  \\\n",
       "28470  1Mg13VMaQj4fhPtQT41vUZ                  False   \n",
       "28471  3AiNYdRmhXcv7KCFHZOddA                  False   \n",
       "28472  5w0dh39SYz1ei2tCs7X7Fo                  False   \n",
       "28473                     NaN                    NaN   \n",
       "28474                     NaN                    NaN   \n",
       "\n",
       "       spotify_track_duration_ms  danceability  energy  loudness  speechiness  \\\n",
       "28470                   246000.0         0.817   0.625    -3.643       0.0719   \n",
       "28471                   141946.0         0.637   0.963    -3.808       0.0770   \n",
       "28472                   165560.0         0.685   0.760    -9.354       0.0430   \n",
       "28473                        NaN           NaN     NaN       NaN          NaN   \n",
       "28474                        NaN           NaN     NaN       NaN          NaN   \n",
       "\n",
       "       acousticness  instrumentalness  valence    tempo  \n",
       "28470        0.0508          0.001230    0.759  102.907  \n",
       "28471        0.6620          0.000031    0.920  170.224  \n",
       "28472        0.4300          0.000000    0.895  113.569  \n",
       "28473           NaN               NaN      NaN      NaN  \n",
       "28474           NaN               NaN      NaN      NaN  "
      ]
     },
     "execution_count": 21,
     "metadata": {},
     "output_type": "execute_result"
    }
   ],
   "source": [
    "songs_features_df.tail()"
   ]
  },
  {
   "cell_type": "code",
   "execution_count": null,
   "metadata": {},
   "outputs": [],
   "source": []
  },
  {
   "cell_type": "markdown",
   "metadata": {},
   "source": [
    "### 3 songID du spotify features df etait different du billboard df\n",
    "\n",
    "    '1-2-3Gloria Estefan & Miami Sound Machine'\n",
    "    'Vanilla ÓlayJackie DeShannon'\n",
    "    'Mercy4.0'\n",
    "    \n",
    "### 98 songID ne sont pas dans spotify features df\n",
    "\n",
    "    ...\n",
    "    Don't You KnowDella Reese\n",
    "    88\n",
    "    Do Re Miblackbear\n",
    "    89\n",
    "    Don't You Love Me49-ers\n",
    "    90\n",
    "    ..."
   ]
  },
  {
   "cell_type": "markdown",
   "metadata": {},
   "source": [
    "## PETIT RECAP"
   ]
  },
  {
   "cell_type": "raw",
   "metadata": {},
   "source": [
    "--> Centre reduire features"
   ]
  },
  {
   "cell_type": "markdown",
   "metadata": {},
   "source": [
    "## Analyse GENRE feature\n",
    "\n",
    "    Il y a trop de genre spotify (+ de 1000). \n",
    "    Donc on va les supprimer de nos données. \n",
    "    Et utiliser les genres de musimap (35 env) pour comparer ces genres a nos clusters ."
   ]
  },
  {
   "cell_type": "code",
   "execution_count": null,
   "metadata": {},
   "outputs": [],
   "source": []
  }
 ],
 "metadata": {
  "kernelspec": {
   "display_name": "Python 3",
   "language": "python",
   "name": "python3"
  },
  "language_info": {
   "codemirror_mode": {
    "name": "ipython",
    "version": 3
   },
   "file_extension": ".py",
   "mimetype": "text/x-python",
   "name": "python",
   "nbconvert_exporter": "python",
   "pygments_lexer": "ipython3",
   "version": "3.6.7"
  }
 },
 "nbformat": 4,
 "nbformat_minor": 2
}
