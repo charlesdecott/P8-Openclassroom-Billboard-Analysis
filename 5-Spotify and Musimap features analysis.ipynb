{
 "cells": [
  {
   "cell_type": "code",
   "execution_count": null,
   "metadata": {},
   "outputs": [],
   "source": [
    "def evolutionOneFeatures(feature,data):\n",
    "    years=[]\n",
    "    means=[]\n",
    "    for i in range(1958,2020):\n",
    "\n",
    "        dfyear=data[data['year']==i][feature]\n",
    "        years.append(i)\n",
    "        means.append(dfyear.mean())\n",
    "\n",
    "    plt.plot(years,means)\n",
    "    plt.title('Evolution de la '+feature)\n",
    "    plt.ylabel(feature)\n",
    "    plt.show()"
   ]
  },
  {
   "cell_type": "code",
   "execution_count": null,
   "metadata": {},
   "outputs": [],
   "source": [
    "columns=['danceability', 'energy', 'loudness', 'speechiness','acousticness', 'instrumentalness','valence', 'tempo']\n",
    "dataa=songs_features_df.dropna()\n",
    "for feature in columns :\n",
    "    evolutionOneFeatures(feature,dataa)"
   ]
  },
  {
   "cell_type": "code",
   "execution_count": null,
   "metadata": {},
   "outputs": [],
   "source": []
  },
  {
   "cell_type": "code",
   "execution_count": null,
   "metadata": {},
   "outputs": [],
   "source": []
  },
  {
   "cell_type": "code",
   "execution_count": null,
   "metadata": {},
   "outputs": [],
   "source": []
  }
 ],
 "metadata": {
  "kernelspec": {
   "display_name": "Python 3",
   "language": "python",
   "name": "python3"
  },
  "language_info": {
   "codemirror_mode": {
    "name": "ipython",
    "version": 3
   },
   "file_extension": ".py",
   "mimetype": "text/x-python",
   "name": "python",
   "nbconvert_exporter": "python",
   "pygments_lexer": "ipython3",
   "version": "3.6.7"
  }
 },
 "nbformat": 4,
 "nbformat_minor": 2
}
